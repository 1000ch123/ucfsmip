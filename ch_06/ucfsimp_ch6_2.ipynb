{
 "cells": [
  {
   "cell_type": "code",
   "execution_count": null,
   "metadata": {
    "collapsed": false
   },
   "outputs": [],
   "source": [
    "class LCVariable < Struct.new(:name)\n",
    "  def to_s\n",
    "    name.to_s\n",
    "  end\n",
    "\n",
    "  def inspect\n",
    "    to_s\n",
    "  end\n",
    "end\n",
    "\n",
    "class LCFunction < Struct.new(:parameter, :body)\n",
    "  def to_s\n",
    "    \"-> #{parameter} { #{body}}\"\n",
    "  end\n",
    "\n",
    "  def inspect\n",
    "    to_s\n",
    "  end\n",
    "\n",
    "end\n",
    "\n",
    "class LCCall < Struct.new(:left, :right)\n",
    "  def to_s\n",
    "    \"#{left}[#{right}]\"\n",
    "  end\n",
    "\n",
    "  def inspect\n",
    "    to_s\n",
    "  end\n",
    "end"
   ]
  },
  {
   "cell_type": "code",
   "execution_count": null,
   "metadata": {
    "collapsed": false
   },
   "outputs": [],
   "source": [
    "one = LCFunction.new(:p,LCFunction.new(:x,LCCall.new(LCVariable.new(:p), LCVariable.new(:x))))\n",
    "puts one\n",
    "\n",
    "increment =\n",
    "  LCFunction.new(:n,\n",
    "    LCFunction.new(:p,\n",
    "      LCFunction.new(:x,\n",
    "        LCCall.new(\n",
    "          LCVariable.new(:p),\n",
    "          LCCall.new(\n",
    "            LCCall.new(LCVariable.new(:n), LCVariable.new(:p)),\n",
    "            LCVariable.new(:x)\n",
    "          )\n",
    "        )\n",
    "      )\n",
    "    )\n",
    "  )\n",
    "\n",
    "puts increment\n",
    "\n"
   ]
  },
  {
   "cell_type": "code",
   "execution_count": 1,
   "metadata": {
    "collapsed": false
   },
   "outputs": [
    {
     "data": {
      "text/plain": [
       ":replace"
      ]
     },
     "execution_count": 1,
     "metadata": {},
     "output_type": "execute_result"
    }
   ],
   "source": [
    "\n",
    "class LCVariable < Struct.new(:name)\n",
    "  def to_s\n",
    "    name.to_s\n",
    "  end\n",
    "\n",
    "  def inspect\n",
    "    to_s\n",
    "  end\n",
    "\n",
    "  def replace(name, replacement)\n",
    "    if self.name == name\n",
    "      replacement\n",
    "    else\n",
    "      self\n",
    "    end\n",
    "  end\n",
    "end\n",
    "\n",
    "class LCFunction < Struct.new(:parameter, :body)\n",
    "  def to_s\n",
    "    \"-> #{parameter} { #{body}}\"\n",
    "  end\n",
    "\n",
    "  def inspect \n",
    "    to_s\n",
    "  end\n",
    "\n",
    "  def replace(name, replacement)\n",
    "    if parameter == name\n",
    "      self\n",
    "    else\n",
    "      LCFunction.new(parameter, body.replace(name, replacement))\n",
    "    end\n",
    "  end\n",
    "end\n",
    "\n",
    "class LCCall < Struct.new(:left, :right)\n",
    "  def to_s\n",
    "    \"#{left}[#{right}]\"\n",
    "  end\n",
    "\n",
    "  def inspect\n",
    "    to_s\n",
    "  end\n",
    "\n",
    "  def replace(name, replacement)\n",
    "    LCCall.new(left.replace(name, replacement), right.replace(name, replacement))\n",
    "  end\n",
    "end\n"
   ]
  },
  {
   "cell_type": "code",
   "execution_count": 2,
   "metadata": {
    "collapsed": false
   },
   "outputs": [
    {
     "name": "stdout",
     "output_type": "stream",
     "text": [
      "x\n",
      "-> y { y}\n",
      "x\n"
     ]
    }
   ],
   "source": [
    "puts expression = LCVariable.new(:x)\n",
    "puts expression.replace(:x, LCFunction.new(:y, LCVariable.new(:y)))\n",
    "puts expression.replace(:z, LCFunction.new(:y, LCVariable.new(:y)))"
   ]
  },
  {
   "cell_type": "code",
   "execution_count": null,
   "metadata": {
    "collapsed": true
   },
   "outputs": [],
   "source": []
  }
 ],
 "metadata": {
  "kernelspec": {
   "display_name": "Ruby 2.2.2",
   "language": "ruby",
   "name": "ruby"
  },
  "language_info": {
   "file_extension": "rb",
   "mimetype": "application/x-ruby",
   "name": "ruby",
   "version": "2.2.2"
  }
 },
 "nbformat": 4,
 "nbformat_minor": 0
}
