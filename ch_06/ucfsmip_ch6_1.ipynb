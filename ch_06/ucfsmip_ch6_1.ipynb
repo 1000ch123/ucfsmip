{
 "cells": [
  {
   "cell_type": "markdown",
   "metadata": {},
   "source": [
    "## 第二部\n",
    "\n",
    "- 今まで\n",
    "    - 計算をモデル化してきた\n",
    "        - ch2: SIMPLE\n",
    "        - ch3: DFA/NFA\n",
    "        - ch4: DPDA/NPDA\n",
    "        - ch5: DTM\n",
    "    - 計算ってなんだろう？を考えてきた\n",
    "         - 質問に答えるもの\n",
    "         - 入力に対し出力返すもの\n",
    "    - 人間がわかりやすい形での理解だった\n",
    "- こっから\n",
    "    - 人間の理解しやすい形**ではない**形式で考えていく"
   ]
  },
  {
   "cell_type": "markdown",
   "metadata": {},
   "source": [
    "## chapter 6\n",
    "- ゼロから計算の概念を組み立てていく\n",
    "- 型なしラムダ計算\n",
    "    - ch6.1: rubyのprocを用いてlambda計算（っぽいこと）をする\n",
    "    - ch6.2: lambda計算を実装する"
   ]
  },
  {
   "cell_type": "markdown",
   "metadata": {},
   "source": [
    "## 6.1: ラムダ計算をまねる\n",
    "- 最小限の機能でプログラムを書こう\n",
    "- 使用禁止\n",
    "    - gem\n",
    "    - std lib\n",
    "    - module\n",
    "    - method\n",
    "    - class\n",
    "    - object\n",
    "    - 制御構造\n",
    "    - 代入\n",
    "    - 配列\n",
    "    - 文字列\n",
    "    - 数値\n",
    "    - ブール値\n",
    "- 使用可能\n",
    "    - 変数参照\n",
    "        - aliasとしての変数利用\n",
    "        - ?代入禁止とconflictするのでは\n",
    "    - proc生成\n",
    "    - proc呼び出し\n",
    "    \n",
    "- 要するに：論理構造，データ構造などすべて禁止．自前でつくっていく\n",
    "- こんな感じですべてを表す"
   ]
  },
  {
   "cell_type": "markdown",
   "metadata": {},
   "source": [
    "### 6.1.1: procのポイント\n",
    "\n",
    "procってなにができるの"
   ]
  },
  {
   "cell_type": "code",
   "execution_count": 1,
   "metadata": {
    "collapsed": false
   },
   "outputs": [
    {
     "data": {
      "text/plain": [
       "#<Proc:0x007feddb814c20@<main>:1 (lambda)>"
      ]
     },
     "execution_count": 1,
     "metadata": {},
     "output_type": "execute_result"
    }
   ],
   "source": [
    "#proc\n",
    "-> x { -> { x.call(y)}}"
   ]
  },
  {
   "cell_type": "markdown",
   "metadata": {
    "collapsed": true
   },
   "source": [
    "#### 6.1.1.1 配管\n",
    "\n",
    "callできるよ"
   ]
  },
  {
   "cell_type": "code",
   "execution_count": 2,
   "metadata": {
    "collapsed": false
   },
   "outputs": [
    {
     "data": {
      "text/plain": [
       "3"
      ]
     },
     "execution_count": 2,
     "metadata": {},
     "output_type": "execute_result"
    }
   ],
   "source": [
    "# call\n",
    "-> x {x + 2}.call(1)"
   ]
  },
  {
   "cell_type": "markdown",
   "metadata": {},
   "source": [
    "#### 6.1.1.2 引数\n",
    "\n",
    "複数引数取れるよ"
   ]
  },
  {
   "cell_type": "code",
   "execution_count": 3,
   "metadata": {
    "collapsed": false
   },
   "outputs": [
    {
     "data": {
      "text/plain": [
       "7"
      ]
     },
     "execution_count": 3,
     "metadata": {},
     "output_type": "execute_result"
    }
   ],
   "source": [
    "-> x,y {x + y}.call(3,4)"
   ]
  },
  {
   "cell_type": "markdown",
   "metadata": {},
   "source": [
    "でも別に，複数引数撮れることはmustじゃないよ\n",
    "\n",
    "仮にprocが単引数しか許容しなかったとしても，同じことは出来るよ"
   ]
  },
  {
   "cell_type": "code",
   "execution_count": 4,
   "metadata": {
    "collapsed": false
   },
   "outputs": [
    {
     "data": {
      "text/plain": [
       "7"
      ]
     },
     "execution_count": 4,
     "metadata": {},
     "output_type": "execute_result"
    }
   ],
   "source": [
    "-> x {\n",
    "  -> y {\n",
    "    x + y\n",
    "  }\n",
    "}.call(3).call(4)"
   ]
  },
  {
   "cell_type": "markdown",
   "metadata": {},
   "source": [
    "この場合，引数を少なく返すと「残りの引数を受け取るproc」が返るよ"
   ]
  },
  {
   "cell_type": "code",
   "execution_count": 5,
   "metadata": {
    "collapsed": false
   },
   "outputs": [
    {
     "data": {
      "text/plain": [
       "#<Proc:0x007feddb03af18@<main>:2 (lambda)>"
      ]
     },
     "execution_count": 5,
     "metadata": {},
     "output_type": "execute_result"
    }
   ],
   "source": [
    "# 2引数のところ1引数で渡すと..\n",
    "addThree = -> x {\n",
    "  -> y {\n",
    "    x + y\n",
    "  }\n",
    "}.call(3)"
   ]
  },
  {
   "cell_type": "code",
   "execution_count": 6,
   "metadata": {
    "collapsed": false
   },
   "outputs": [
    {
     "data": {
      "text/plain": [
       "7"
      ]
     },
     "execution_count": 6,
     "metadata": {},
     "output_type": "execute_result"
    }
   ],
   "source": [
    "# 引数に3をたす関数になった\n",
    "addThree.call(4)"
   ]
  },
  {
   "cell_type": "code",
   "execution_count": 7,
   "metadata": {
    "collapsed": false
   },
   "outputs": [
    {
     "data": {
      "text/plain": [
       "13"
      ]
     },
     "execution_count": 7,
     "metadata": {},
     "output_type": "execute_result"
    }
   ],
   "source": [
    "addThree.call(10)"
   ]
  },
  {
   "cell_type": "markdown",
   "metadata": {},
   "source": [
    "いわゆるカリー化である"
   ]
  },
  {
   "cell_type": "markdown",
   "metadata": {},
   "source": [
    "#### 6.1.1.3 等価性\n",
    "\n",
    "内部定義が違っても，同じ呼び出しに同じ結果を返すなら等価である\n",
    "外延等価性というらしい\n",
    "\n",
    "以下は等価である"
   ]
  },
  {
   "cell_type": "code",
   "execution_count": 8,
   "metadata": {
    "collapsed": false
   },
   "outputs": [
    {
     "data": {
      "text/plain": [
       "#<Proc:0x007feddb82de00@<main>:0 (lambda)>"
      ]
     },
     "execution_count": 8,
     "metadata": {},
     "output_type": "execute_result"
    }
   ],
   "source": [
    "p = -> n {n * 2}"
   ]
  },
  {
   "cell_type": "code",
   "execution_count": 9,
   "metadata": {
    "collapsed": false
   },
   "outputs": [
    {
     "data": {
      "text/plain": [
       "#<Proc:0x007feddc81cb68@<main>:0 (lambda)>"
      ]
     },
     "execution_count": 9,
     "metadata": {},
     "output_type": "execute_result"
    }
   ],
   "source": [
    "q = -> x { p.call(x)}"
   ]
  },
  {
   "cell_type": "code",
   "execution_count": 10,
   "metadata": {
    "collapsed": false
   },
   "outputs": [
    {
     "name": "stdout",
     "output_type": "stream",
     "text": [
      "20\n",
      "20\n"
     ]
    }
   ],
   "source": [
    "puts p.call(10)\n",
    "puts q.call(10)"
   ]
  },
  {
   "cell_type": "markdown",
   "metadata": {},
   "source": [
    "等価であれば，交換可能であるのは自然の理\n",
    "\n",
    "```\n",
    "p = q\n",
    "p = -> x { p.call(x)}\n",
    "```\n",
    "すなわち，\n",
    "\n",
    "```\n",
    "-> x {p.call(x)}\n",
    "```\n",
    "なるパターンを見つけたら無条件で `p` に書き換えてok"
   ]
  },
  {
   "cell_type": "markdown",
   "metadata": {},
   "source": [
    "#### 6.1.1.4 構文\n",
    "\n",
    "引数はこんな形でも与えられるよ"
   ]
  },
  {
   "cell_type": "code",
   "execution_count": 11,
   "metadata": {
    "collapsed": false
   },
   "outputs": [
    {
     "data": {
      "text/plain": [
       "15"
      ]
     },
     "execution_count": 11,
     "metadata": {},
     "output_type": "execute_result"
    }
   ],
   "source": [
    "-> x {x + 5}[10]"
   ]
  },
  {
   "cell_type": "markdown",
   "metadata": {},
   "source": [
    "### 6.1.2 問題\n",
    "\n",
    "FizzBuzzを先の制約のもとかいてみよう\n",
    "\n",
    "まずは普通にrubyつかってFizzBuzzかいて，それをstep by stepで変換していくよ"
   ]
  },
  {
   "cell_type": "code",
   "execution_count": 12,
   "metadata": {
    "collapsed": false
   },
   "outputs": [
    {
     "data": {
      "text/plain": [
       "[1, 2, \"Fizz\", 4, \"Buzz\", \"Fizz\", 7, 8, \"Fizz\", \"Buzz\", 11, \"Fizz\", 13, 14, \"FizzBuzz\", 16, 17, \"Fizz\", 19, \"Buzz\", \"Fizz\", 22, 23, \"Fizz\", \"Buzz\", 26, \"Fizz\", 28, 29, \"FizzBuzz\", 31, 32, \"Fizz\", 34, \"Buzz\", \"Fizz\", 37, 38, \"Fizz\", \"Buzz\", 41, \"Fizz\", 43, 44, \"FizzBuzz\", 46, 47, \"Fizz\", 49, \"Buzz\", \"Fizz\", 52, 53, \"Fizz\", \"Buzz\", 56, \"Fizz\", 58, 59, \"FizzBuzz\", 61, 62, \"Fizz\", 64, \"Buzz\", \"Fizz\", 67, 68, \"Fizz\", \"Buzz\", 71, \"Fizz\", 73, 74, \"FizzBuzz\", 76, 77, \"Fizz\", 79, \"Buzz\", \"Fizz\", 82, 83, \"Fizz\", \"Buzz\", 86, \"Fizz\", 88, 89, \"FizzBuzz\", 91, 92, \"Fizz\", 94, \"Buzz\", \"Fizz\", 97, 98, \"Fizz\", \"Buzz\"]"
      ]
     },
     "execution_count": 12,
     "metadata": {},
     "output_type": "execute_result"
    }
   ],
   "source": [
    "# いわゆるFizzBuzz\n",
    "(1..100).map do |n|\n",
    "  if (n % 15).zero?\n",
    "    'FizzBuzz'\n",
    "  elsif (n % 3).zero?\n",
    "    'Fizz'\n",
    "  elsif (n % 5).zero?\n",
    "    'Buzz'\n",
    "  else\n",
    "    n\n",
    "  end\n",
    "end"
   ]
  },
  {
   "cell_type": "markdown",
   "metadata": {},
   "source": [
    "このコードは使っちゃいけないものばかり使っているね\n",
    "\n",
    "- 数\n",
    "- ブール値\n",
    "- 制御構造(if/elsif/else)\n",
    "- 演算\n",
    "- リスト( (1..100))\n",
    "- 文字列\n",
    "- etc.\n",
    "\n",
    "ひとつずつ，すべてprocで表現していくよ"
   ]
  },
  {
   "cell_type": "markdown",
   "metadata": {},
   "source": [
    "### 6.1.3 数\n",
    "\n",
    "- 「数」という概念を「1,2,3..」を使わずに表現するよ\n",
    "- 「数」ってなんだ？\n",
    "    - ０の次に１\n",
    "    - 1の次に２\n",
    "    - ２の次に3..\n",
    "- 1とか2のラベルに意味は無い\n",
    "    - 表現の形でしか無いからね\n",
    "    - 本質は「連続・反復を表す概念である」ということ\n",
    "    - 我々は 0->1->2 という連続性を知っているので，これらのラベルは「数」を表現できる\n",
    "        - その意味では「あ，い，う，え，お」とかも一緒\n",
    "        - 実際16進数だとA,B..Fつかってるよね\n",
    "- 「連続・反復」の概念を表現できれば，数を表現できる\n",
    "    - 0: なにもしないこと\n",
    "    - 1: アクションを行うこと\n",
    "    - 2: アクションを行った後，アクションを行うこと\n",
    "    - 3: アクションを行った後，アクションを行った後，アクションを行うこと\n",
    "    - 以下略\n",
    "    - 再帰っぽいな！"
   ]
  },
  {
   "cell_type": "code",
   "execution_count": 13,
   "metadata": {
    "collapsed": false
   },
   "outputs": [
    {
     "data": {
      "text/plain": [
       ":two"
      ]
     },
     "execution_count": 13,
     "metadata": {},
     "output_type": "execute_result"
    }
   ],
   "source": [
    "# ruby風に数を表現\n",
    "def zero (proc, x)\n",
    "  x\n",
    "end\n",
    "\n",
    "def one (proc, x)\n",
    "  proc[x]\n",
    "end\n",
    "\n",
    "def two (proc, x)\n",
    "  proc[proc[x]]\n",
    "end"
   ]
  },
  {
   "cell_type": "markdown",
   "metadata": {},
   "source": [
    "よーするに：引数xに対しproc p を「何度」適用するか？で数を表す"
   ]
  },
  {
   "cell_type": "code",
   "execution_count": 14,
   "metadata": {
    "collapsed": false
   },
   "outputs": [
    {
     "data": {
      "text/plain": [
       "#<Proc:0x007feddc91d990@<main>:3 (lambda)>"
      ]
     },
     "execution_count": 14,
     "metadata": {},
     "output_type": "execute_result"
    }
   ],
   "source": [
    "# procで同じことをやると\n",
    "ZERO = -> p { -> x { x}}\n",
    "ONE = -> p { -> x {p[x]}}\n",
    "TWO = -> p { -> x {p[p[x]]}}"
   ]
  },
  {
   "cell_type": "markdown",
   "metadata": {},
   "source": [
    "スッキリかけて気持ちいいね！でも頭がこんがらがってきそうだね！\n",
    "\n",
    "- このままだと本当にZEROが0, ONEが1なのか？がわかりづらい\n",
    "- 人間が理解しやすいように，これらの値をruby世界の「数」に変換する関数をつくろう"
   ]
  },
  {
   "cell_type": "code",
   "execution_count": 15,
   "metadata": {
    "collapsed": false
   },
   "outputs": [
    {
     "data": {
      "text/plain": [
       ":to_integer"
      ]
     },
     "execution_count": 15,
     "metadata": {},
     "output_type": "execute_result"
    }
   ],
   "source": [
    "# ZERO/ONE/..を0/1/..に変換する\n",
    "def to_integer(proc)\n",
    "  proc[-> x { x+1}][0]\n",
    "end"
   ]
  },
  {
   "cell_type": "code",
   "execution_count": 16,
   "metadata": {
    "collapsed": false
   },
   "outputs": [
    {
     "name": "stdout",
     "output_type": "stream",
     "text": [
      "0\n",
      "1\n",
      "2\n"
     ]
    }
   ],
   "source": [
    "puts to_integer(ZERO)\n",
    "puts to_integer(ONE)\n",
    "puts to_integer(TWO)"
   ]
  },
  {
   "cell_type": "markdown",
   "metadata": {},
   "source": [
    "これで，FizzBuzzにひつような数 3, 5, 15, 100が定義できる！"
   ]
  },
  {
   "cell_type": "code",
   "execution_count": 17,
   "metadata": {
    "collapsed": false
   },
   "outputs": [
    {
     "data": {
      "text/plain": [
       "#<Proc:0x007feddc0da350@<main>:3 (lambda)>"
      ]
     },
     "execution_count": 17,
     "metadata": {},
     "output_type": "execute_result"
    }
   ],
   "source": [
    "THREE = -> p { -> x {p[p[p[x]]]}}\n",
    "FIVE = -> p{ -> x {p[p[p[p[p[x]]]]]}}\n",
    "FIFTEEN = -> p{ -> x {p[p[p[p[p[p[p[p[p[p[p[p[p[p[p[x]]]]]]]]]]]]]]]}}\n",
    "HUNDRED = -> p{ -> x {p[p[p[p[p[p[p[p[p[p[p[p[p[p[p[p[p[p[p[p[p[p[p[p[p[p[p[p[p[p[p[p[p[p[p[p[p[p[p[p[p[p[p[p[p[p[p[p[p[p[p[p[p[p[p[p[p[p[p[p[p[p[p[p[p[p[p[p[p[p[p[p[p[p[p[p[p[p[p[p[p[p[p[p[p[p[p[p[p[p[p[p[p[p[p[p[p[p[p[p[x]]]]]]]]]]]]]]]]]]]]]]]]]]]]]]]]]]]]]]]]]]]]]]]]]]]]]]]]]]]]]]]]]]]]]]]]]]]]]]]]]]]]]]]]]]]]]]]]]]]]}}"
   ]
  },
  {
   "cell_type": "code",
   "execution_count": 18,
   "metadata": {
    "collapsed": false
   },
   "outputs": [
    {
     "name": "stdout",
     "output_type": "stream",
     "text": [
      "3\n",
      "5\n",
      "15\n",
      "100\n"
     ]
    }
   ],
   "source": [
    "puts to_integer(THREE)\n",
    "puts to_integer(FIVE)\n",
    "puts to_integer(FIFTEEN)\n",
    "puts to_integer(HUNDRED)"
   ]
  },
  {
   "cell_type": "markdown",
   "metadata": {},
   "source": [
    "以上を用いてFizzBuzzはこうなります"
   ]
  },
  {
   "cell_type": "code",
   "execution_count": 19,
   "metadata": {
    "collapsed": false
   },
   "outputs": [
    {
     "ename": "ArgumentError",
     "evalue": "bad value for range",
     "output_type": "error",
     "traceback": [
      "\u001b[31mArgumentError\u001b[0m: bad value for range",
      "\u001b[37m<main>:1:in `<main>'\u001b[0m",
      "\u001b[37m/Users/masa/.anyenv/envs/rbenv/versions/2.2.2/lib/ruby/gems/2.2.0/gems/iruby-0.2.7/lib/iruby/backend.rb:44:in `eval'\u001b[0m",
      "\u001b[37m/Users/masa/.anyenv/envs/rbenv/versions/2.2.2/lib/ruby/gems/2.2.0/gems/iruby-0.2.7/lib/iruby/backend.rb:44:in `eval'\u001b[0m",
      "\u001b[37m/Users/masa/.anyenv/envs/rbenv/versions/2.2.2/lib/ruby/gems/2.2.0/gems/iruby-0.2.7/lib/iruby/backend.rb:12:in `eval'\u001b[0m",
      "\u001b[37m/Users/masa/.anyenv/envs/rbenv/versions/2.2.2/lib/ruby/gems/2.2.0/gems/iruby-0.2.7/lib/iruby/kernel.rb:87:in `execute_request'\u001b[0m",
      "\u001b[37m/Users/masa/.anyenv/envs/rbenv/versions/2.2.2/lib/ruby/gems/2.2.0/gems/iruby-0.2.7/lib/iruby/kernel.rb:47:in `dispatch'\u001b[0m",
      "\u001b[37m/Users/masa/.anyenv/envs/rbenv/versions/2.2.2/lib/ruby/gems/2.2.0/gems/iruby-0.2.7/lib/iruby/kernel.rb:37:in `run'\u001b[0m",
      "\u001b[37m/Users/masa/.anyenv/envs/rbenv/versions/2.2.2/lib/ruby/gems/2.2.0/gems/iruby-0.2.7/lib/iruby/command.rb:70:in `run_kernel'\u001b[0m",
      "\u001b[37m/Users/masa/.anyenv/envs/rbenv/versions/2.2.2/lib/ruby/gems/2.2.0/gems/iruby-0.2.7/lib/iruby/command.rb:34:in `run'\u001b[0m",
      "\u001b[37m/Users/masa/.anyenv/envs/rbenv/versions/2.2.2/lib/ruby/gems/2.2.0/gems/iruby-0.2.7/bin/iruby:5:in `<top (required)>'\u001b[0m",
      "\u001b[37m/Users/masa/.anyenv/envs/rbenv/versions/2.2.2/bin/iruby:23:in `load'\u001b[0m",
      "\u001b[37m/Users/masa/.anyenv/envs/rbenv/versions/2.2.2/bin/iruby:23:in `<main>'\u001b[0m"
     ]
    }
   ],
   "source": [
    "#  数をprocで表現\n",
    "(ONE..HUNDRED).map do |n|\n",
    "  if (n % FIFTEEN).zero?\n",
    "    'FizzBuzz'\n",
    "  elsif (n % THREE).zero?\n",
    "    'Fizz'\n",
    "  elsif (n % FIVE).zero?\n",
    "    'Buzz'\n",
    "  else\n",
    "    n\n",
    "  end\n",
    "end"
   ]
  },
  {
   "cell_type": "markdown",
   "metadata": {},
   "source": [
    "ただし，まだ独自の「数」に対して % とか .. とかを定義していないので，上のプログラムは動きません"
   ]
  },
  {
   "cell_type": "markdown",
   "metadata": {},
   "source": [
    "### 6.1.4 ブール値"
   ]
  },
  {
   "cell_type": "markdown",
   "metadata": {},
   "source": [
    "- ブール値ってなんだ？\n",
    "    - True/False\n",
    "    - ２つの選択肢から一つを選ぶもの\n",
    "        - if bool then true_statement else false_statement\n",
    "    - 最初から true_statement, false_statement のどちらかを返すもの，と定義できる"
   ]
  },
  {
   "cell_type": "code",
   "execution_count": 20,
   "metadata": {
    "collapsed": false
   },
   "outputs": [
    {
     "data": {
      "text/plain": [
       ":false"
      ]
     },
     "execution_count": 20,
     "metadata": {},
     "output_type": "execute_result"
    }
   ],
   "source": [
    "# rubyふうに\n",
    "def true(x,y)\n",
    "  x\n",
    "end\n",
    "\n",
    "def false(x,y)\n",
    "  y\n",
    "end"
   ]
  },
  {
   "cell_type": "code",
   "execution_count": 21,
   "metadata": {
    "collapsed": false
   },
   "outputs": [
    {
     "data": {
      "text/plain": [
       "#<Proc:0x007feddc148b70@<main>:3 (lambda)>"
      ]
     },
     "execution_count": 21,
     "metadata": {},
     "output_type": "execute_result"
    }
   ],
   "source": [
    "# procふうに\n",
    "# TRUE/FALSEは予約語っぽいorz\n",
    "MY_TRUE = -> x { -> y { x }}\n",
    "MY_FALSE = -> x { -> y { y }}"
   ]
  },
  {
   "cell_type": "markdown",
   "metadata": {},
   "source": [
    "変換も簡単"
   ]
  },
  {
   "cell_type": "code",
   "execution_count": 22,
   "metadata": {
    "collapsed": false
   },
   "outputs": [
    {
     "data": {
      "text/plain": [
       ":to_boolean"
      ]
     },
     "execution_count": 22,
     "metadata": {},
     "output_type": "execute_result"
    }
   ],
   "source": [
    "def to_boolean(proc)\n",
    "  proc[true][false]\n",
    "end"
   ]
  },
  {
   "cell_type": "code",
   "execution_count": 23,
   "metadata": {
    "collapsed": false
   },
   "outputs": [
    {
     "name": "stdout",
     "output_type": "stream",
     "text": [
      "true\n",
      "false\n"
     ]
    }
   ],
   "source": [
    "puts to_boolean(MY_TRUE)\n",
    "puts to_boolean(MY_FALSE)"
   ]
  },
  {
   "cell_type": "markdown",
   "metadata": {},
   "source": [
    "合せて制御構造 if/elsif/else も定義しよう"
   ]
  },
  {
   "cell_type": "code",
   "execution_count": 24,
   "metadata": {
    "collapsed": false
   },
   "outputs": [
    {
     "data": {
      "text/plain": [
       ":if_"
      ]
     },
     "execution_count": 24,
     "metadata": {},
     "output_type": "execute_result"
    }
   ],
   "source": [
    "# ruby ふうに\n",
    "def if_(proc, x, y)\n",
    "  proc[x][y]\n",
    "end"
   ]
  },
  {
   "cell_type": "code",
   "execution_count": 25,
   "metadata": {
    "collapsed": false
   },
   "outputs": [
    {
     "data": {
      "text/plain": [
       "#<Proc:0x007feddc0d9f68@<main>:1 (lambda)>"
      ]
     },
     "execution_count": 25,
     "metadata": {},
     "output_type": "execute_result"
    }
   ],
   "source": [
    "# procふうに\n",
    "IF = -> b { -> x { -> y { b[x][y]}}}"
   ]
  },
  {
   "cell_type": "markdown",
   "metadata": {},
   "source": [
    "ここで procの変換ルールを思い出そう\n",
    "\n",
    "`-> x { p[x]} ` == `p` だった\n",
    "\n",
    "これをIFに適用\n",
    "\n",
    "```\n",
    "-> b {-> x {-> y { b[x][y]}}}\n",
    "-> b {-> x {        b[x]      }}\n",
    "-> b {              b          }}\n",
    "```\n",
    "\n",
    "そもそも true/falseを「２つの選択肢から一つを選ぶもの」として定義したので，ごく当たり前の話ではあるね"
   ]
  },
  {
   "cell_type": "code",
   "execution_count": 26,
   "metadata": {
    "collapsed": false
   },
   "outputs": [
    {
     "ename": "ArgumentError",
     "evalue": "bad value for range",
     "output_type": "error",
     "traceback": [
      "\u001b[31mArgumentError\u001b[0m: bad value for range",
      "\u001b[37m<main>:1:in `<main>'\u001b[0m",
      "\u001b[37m/Users/masa/.anyenv/envs/rbenv/versions/2.2.2/lib/ruby/gems/2.2.0/gems/iruby-0.2.7/lib/iruby/backend.rb:44:in `eval'\u001b[0m",
      "\u001b[37m/Users/masa/.anyenv/envs/rbenv/versions/2.2.2/lib/ruby/gems/2.2.0/gems/iruby-0.2.7/lib/iruby/backend.rb:44:in `eval'\u001b[0m",
      "\u001b[37m/Users/masa/.anyenv/envs/rbenv/versions/2.2.2/lib/ruby/gems/2.2.0/gems/iruby-0.2.7/lib/iruby/backend.rb:12:in `eval'\u001b[0m",
      "\u001b[37m/Users/masa/.anyenv/envs/rbenv/versions/2.2.2/lib/ruby/gems/2.2.0/gems/iruby-0.2.7/lib/iruby/kernel.rb:87:in `execute_request'\u001b[0m",
      "\u001b[37m/Users/masa/.anyenv/envs/rbenv/versions/2.2.2/lib/ruby/gems/2.2.0/gems/iruby-0.2.7/lib/iruby/kernel.rb:47:in `dispatch'\u001b[0m",
      "\u001b[37m/Users/masa/.anyenv/envs/rbenv/versions/2.2.2/lib/ruby/gems/2.2.0/gems/iruby-0.2.7/lib/iruby/kernel.rb:37:in `run'\u001b[0m",
      "\u001b[37m/Users/masa/.anyenv/envs/rbenv/versions/2.2.2/lib/ruby/gems/2.2.0/gems/iruby-0.2.7/lib/iruby/command.rb:70:in `run_kernel'\u001b[0m",
      "\u001b[37m/Users/masa/.anyenv/envs/rbenv/versions/2.2.2/lib/ruby/gems/2.2.0/gems/iruby-0.2.7/lib/iruby/command.rb:34:in `run'\u001b[0m",
      "\u001b[37m/Users/masa/.anyenv/envs/rbenv/versions/2.2.2/lib/ruby/gems/2.2.0/gems/iruby-0.2.7/bin/iruby:5:in `<top (required)>'\u001b[0m",
      "\u001b[37m/Users/masa/.anyenv/envs/rbenv/versions/2.2.2/bin/iruby:23:in `load'\u001b[0m",
      "\u001b[37m/Users/masa/.anyenv/envs/rbenv/versions/2.2.2/bin/iruby:23:in `<main>'\u001b[0m"
     ]
    }
   ],
   "source": [
    "# 数，bool値をprocで\n",
    "(ONE..HUNDRED).map do |n|\n",
    "  IF[(n % FIFTEEN).zero?][\n",
    "    'FizzBuzz'\n",
    "  ][IF[(n % THREE).zero?][\n",
    "    'Fizz'\n",
    "  ][IF[(n % FIVE).zero?][\n",
    "    'Buzz'\n",
    "  ][\n",
    "    n\n",
    "  ]]]\n",
    "end"
   ]
  },
  {
   "cell_type": "markdown",
   "metadata": {},
   "source": [
    "### 6.1.5 述語\n",
    "\n",
    "- FizzBuzzをつくるためには，余りがゼロかの判定が必要（.zero?）\n",
    "- 我々は「数」を「アクションを行う回数」と定義した\n",
    "- 「常にfalse返すproc」をtrueに何度も適用する，とかんがえる"
   ]
  },
  {
   "cell_type": "code",
   "execution_count": 27,
   "metadata": {
    "collapsed": false
   },
   "outputs": [
    {
     "data": {
      "text/plain": [
       ":zreo?"
      ]
     },
     "execution_count": 27,
     "metadata": {},
     "output_type": "execute_result"
    }
   ],
   "source": [
    "# rubyふう\n",
    "def zreo?(proc)\n",
    "  proc[->x{FALSE}][TRUE]\n",
    "end"
   ]
  },
  {
   "cell_type": "code",
   "execution_count": 28,
   "metadata": {
    "collapsed": false
   },
   "outputs": [
    {
     "data": {
      "text/plain": [
       "#<Proc:0x007feddc1b2f48@<main>:1 (lambda)>"
      ]
     },
     "execution_count": 28,
     "metadata": {},
     "output_type": "execute_result"
    }
   ],
   "source": [
    "# procふう\n",
    "IS_ZERO = -> p { p[ -> x {MY_FALSE}][MY_TRUE]}"
   ]
  },
  {
   "cell_type": "code",
   "execution_count": 29,
   "metadata": {
    "collapsed": false
   },
   "outputs": [
    {
     "name": "stdout",
     "output_type": "stream",
     "text": [
      "true\n",
      "false\n"
     ]
    }
   ],
   "source": [
    "puts to_boolean( IS_ZERO[ZERO])\n",
    "puts to_boolean( IS_ZERO[ONE])"
   ]
  },
  {
   "cell_type": "code",
   "execution_count": 30,
   "metadata": {
    "collapsed": false
   },
   "outputs": [
    {
     "ename": "ArgumentError",
     "evalue": "bad value for range",
     "output_type": "error",
     "traceback": [
      "\u001b[31mArgumentError\u001b[0m: bad value for range",
      "\u001b[37m<main>:1:in `<main>'\u001b[0m",
      "\u001b[37m/Users/masa/.anyenv/envs/rbenv/versions/2.2.2/lib/ruby/gems/2.2.0/gems/iruby-0.2.7/lib/iruby/backend.rb:44:in `eval'\u001b[0m",
      "\u001b[37m/Users/masa/.anyenv/envs/rbenv/versions/2.2.2/lib/ruby/gems/2.2.0/gems/iruby-0.2.7/lib/iruby/backend.rb:44:in `eval'\u001b[0m",
      "\u001b[37m/Users/masa/.anyenv/envs/rbenv/versions/2.2.2/lib/ruby/gems/2.2.0/gems/iruby-0.2.7/lib/iruby/backend.rb:12:in `eval'\u001b[0m",
      "\u001b[37m/Users/masa/.anyenv/envs/rbenv/versions/2.2.2/lib/ruby/gems/2.2.0/gems/iruby-0.2.7/lib/iruby/kernel.rb:87:in `execute_request'\u001b[0m",
      "\u001b[37m/Users/masa/.anyenv/envs/rbenv/versions/2.2.2/lib/ruby/gems/2.2.0/gems/iruby-0.2.7/lib/iruby/kernel.rb:47:in `dispatch'\u001b[0m",
      "\u001b[37m/Users/masa/.anyenv/envs/rbenv/versions/2.2.2/lib/ruby/gems/2.2.0/gems/iruby-0.2.7/lib/iruby/kernel.rb:37:in `run'\u001b[0m",
      "\u001b[37m/Users/masa/.anyenv/envs/rbenv/versions/2.2.2/lib/ruby/gems/2.2.0/gems/iruby-0.2.7/lib/iruby/command.rb:70:in `run_kernel'\u001b[0m",
      "\u001b[37m/Users/masa/.anyenv/envs/rbenv/versions/2.2.2/lib/ruby/gems/2.2.0/gems/iruby-0.2.7/lib/iruby/command.rb:34:in `run'\u001b[0m",
      "\u001b[37m/Users/masa/.anyenv/envs/rbenv/versions/2.2.2/lib/ruby/gems/2.2.0/gems/iruby-0.2.7/bin/iruby:5:in `<top (required)>'\u001b[0m",
      "\u001b[37m/Users/masa/.anyenv/envs/rbenv/versions/2.2.2/bin/iruby:23:in `load'\u001b[0m",
      "\u001b[37m/Users/masa/.anyenv/envs/rbenv/versions/2.2.2/bin/iruby:23:in `<main>'\u001b[0m"
     ]
    }
   ],
   "source": [
    "# 数,bool値,述語をprocで\n",
    "(ONE..HUNDRED).map do |n|\n",
    "  IF[IS_ZERO[(n % FIFTEEN)]][\n",
    "    'FizzBuzz'\n",
    "  ][IF[IS_ZERO[(n % THREE)]][\n",
    "    'Fizz'\n",
    "  ][IF[IS_ZERO[(n % FIVE)]][\n",
    "    'Buzz'\n",
    "  ][\n",
    "    n\n",
    "  ]]]\n",
    "end"
   ]
  },
  {
   "cell_type": "markdown",
   "metadata": {},
   "source": [
    "### 6.1.6 ペア\n",
    "- プリミティブとして数値，ブール値を定義した\n",
    "- データ構造が欲しくなる\n",
    "- ペアを定義する\n",
    "\n",
    "- 要件\n",
    "    - 2つの要素をもつ\n",
    "    - left で1つ目の要素を取得\n",
    "    - right で2つ目の要素を取得"
   ]
  },
  {
   "cell_type": "code",
   "execution_count": 31,
   "metadata": {
    "collapsed": false
   },
   "outputs": [
    {
     "data": {
      "text/plain": [
       "#<Proc:0x007feddc178de8@<main>:3 (lambda)>"
      ]
     },
     "execution_count": 31,
     "metadata": {},
     "output_type": "execute_result"
    }
   ],
   "source": [
    "# procふうに\n",
    "PAIR = -> x { -> y { -> f { f[x][y] }}}\n",
    "LEFT = -> p { p[ -> x { -> y {x}}]} \n",
    "RIGHT = -> p { p[-> x { -> y {y}}]} "
   ]
  },
  {
   "cell_type": "markdown",
   "metadata": {},
   "source": [
    "パッと見難しいけど，落ち着いて考えればやってることは簡単\n",
    "\n",
    "- pair : procを受け取り，「予め受け取っていた二数x,y」を適用するproc\n",
    "- left: procを受け取り，「二数x,yを受け取りxを返すproc」を適用するproc\n",
    "- right: procを受け取り，「二数x,yを受け取りyを返すproc」を適用するproc"
   ]
  },
  {
   "cell_type": "markdown",
   "metadata": {
    "collapsed": true
   },
   "source": [
    "### 6.1.7 数値演算\n",
    "\n",
    "- 各種データ型がそろってきた\n",
    "- 演算を定義する"
   ]
  },
  {
   "cell_type": "markdown",
   "metadata": {},
   "source": [
    "- まずはインクリメント\n",
    "- 数 = p,x を受け取ってxにpを指定回数適用するもの\n",
    "- インクリメント: nに更にpを適用する"
   ]
  },
  {
   "cell_type": "code",
   "execution_count": 32,
   "metadata": {
    "collapsed": false
   },
   "outputs": [
    {
     "data": {
      "text/plain": [
       "#<Proc:0x007feddc8764b0@<main>:0 (lambda)>"
      ]
     },
     "execution_count": 32,
     "metadata": {},
     "output_type": "execute_result"
    }
   ],
   "source": [
    "INCREMENT = -> n { -> p { -> x {p[n[p][x]]}}}"
   ]
  },
  {
   "cell_type": "markdown",
   "metadata": {},
   "source": [
    "- デクリメント\n",
    "- n回適用された時，一回戻ったものを返す\n",
    "    - むずかしい\n",
    "- pairを利用，slideという概念の導入\n"
   ]
  },
  {
   "cell_type": "code",
   "execution_count": 33,
   "metadata": {
    "collapsed": false
   },
   "outputs": [
    {
     "name": "stdout",
     "output_type": "stream",
     "text": [
      "[4, 5]\n",
      "[8, 9]\n",
      "[4, 5]\n",
      "[4, 5]\n"
     ]
    }
   ],
   "source": [
    "def slide(pair)\n",
    "  [pair.last, pair.last+1]\n",
    "end\n",
    "\n",
    "# 一つずつずれたものになる\n",
    "puts slide([3,4])\n",
    "puts slide([7,8])\n",
    "\n",
    "# ぶっちゃけ重要なの後ろの数だけ\n",
    "puts slide([0, 4])\n",
    "puts slide([10000, 4])"
   ]
  },
  {
   "cell_type": "markdown",
   "metadata": {},
   "source": [
    "- 数n: xにpをn回適用するもの\n",
    "- [0,0]にslideをn回適用する -> [n-1, n]\n",
    "- left取ればdecrementできてる！"
   ]
  },
  {
   "cell_type": "code",
   "execution_count": 34,
   "metadata": {
    "collapsed": false
   },
   "outputs": [
    {
     "data": {
      "text/plain": [
       "#<Proc:0x007feddc100960@<main>:1 (lambda)>"
      ]
     },
     "execution_count": 34,
     "metadata": {},
     "output_type": "execute_result"
    }
   ],
   "source": [
    "SLIDE = -> p {PAIR[RIGHT[p]][INCREMENT[RIGHT[p]]]}\n",
    "DECREMENT = -> n { LEFT[n[SLIDE][PAIR[ZERO][ZERO]]]}"
   ]
  },
  {
   "cell_type": "code",
   "execution_count": 35,
   "metadata": {
    "collapsed": false
   },
   "outputs": [
    {
     "name": "stdout",
     "output_type": "stream",
     "text": [
      "0\n",
      "4\n",
      "99\n"
     ]
    }
   ],
   "source": [
    "puts to_integer(DECREMENT[ONE])\n",
    "puts to_integer(DECREMENT[FIVE])\n",
    "puts to_integer(DECREMENT[HUNDRED])"
   ]
  },
  {
   "cell_type": "markdown",
   "metadata": {},
   "source": [
    "- 以上を用いれば四則演算が定義できるよ\n",
    "- カリー化してることに注目するとわかりやすいかも"
   ]
  },
  {
   "cell_type": "code",
   "execution_count": 36,
   "metadata": {
    "collapsed": false
   },
   "outputs": [
    {
     "data": {
      "text/plain": [
       "#<Proc:0x007feddc050538@<main>:3 (lambda)>"
      ]
     },
     "execution_count": 36,
     "metadata": {},
     "output_type": "execute_result"
    }
   ],
   "source": [
    "ADD = -> m { -> n { n[INCREMENT][m] }}\n",
    "SUBTRACT = -> m { -> n {n[DECREMENT][m]}}\n",
    "MULTIPLY = -> m { -> n {n[ADD[m]][ZERO]}}\n",
    "POWER = -> m { -> n { n[MULTIPLY[m]][ONE]}}"
   ]
  },
  {
   "cell_type": "code",
   "execution_count": 37,
   "metadata": {
    "collapsed": false
   },
   "outputs": [
    {
     "data": {
      "text/plain": [
       "#<Proc:0x007feddb1469e8@<main>:10 (lambda)>"
      ]
     },
     "execution_count": 37,
     "metadata": {},
     "output_type": "execute_result"
    }
   ],
   "source": [
    "# こう考えるとわかりやすいかも\n",
    "\n",
    "# 「5を足す」というproc\n",
    "ADD_FIVE = FIVE[INCREMENT]\n",
    "\n",
    "# nを受け「nを足す」というprocを返すproc\n",
    "ADD_N = -> n {n[INCREMENT]}\n",
    "\n",
    "#  mにnを受け「nを足す」というprocを返すprocを適用\n",
    "\n",
    "ADD_N_TO_M = -> m { -> n {ADD_N[n][m]}}"
   ]
  },
  {
   "cell_type": "code",
   "execution_count": 38,
   "metadata": {
    "collapsed": false
   },
   "outputs": [
    {
     "name": "stdout",
     "output_type": "stream",
     "text": [
      "7\n",
      "10\n"
     ]
    }
   ],
   "source": [
    "# +α\n",
    "\n",
    "# add，これでよくね？\n",
    "MYADD = -> m {-> n { -> p { -> x {m[p][n[p][x]]}}}}\n",
    "puts to_integer(MYADD[TWO][FIVE])\n",
    "\n",
    "# mul,　これでよくね？\n",
    "MYMUL = -> m {-> n { -> p {m[n[p]]}}}\n",
    "puts to_integer(MYMUL[TWO][FIVE])"
   ]
  },
  {
   "cell_type": "markdown",
   "metadata": {},
   "source": [
    "Haskell風に書くとこんなんとか\n",
    "\n",
    "```\n",
    "ZERO = \\x -> x\n",
    "\n",
    "```"
   ]
  },
  {
   "cell_type": "markdown",
   "metadata": {},
   "source": [
    "- あとは剰余（%）がほしい"
   ]
  },
  {
   "cell_type": "code",
   "execution_count": 39,
   "metadata": {
    "collapsed": false
   },
   "outputs": [
    {
     "data": {
      "text/plain": [
       ":my_mod"
      ]
     },
     "execution_count": 39,
     "metadata": {},
     "output_type": "execute_result"
    }
   ],
   "source": [
    "def my_mod(m,n)\n",
    "  if n <= m\n",
    "    mod(m-n, n)\n",
    "  else\n",
    "    m\n",
    "  end\n",
    "end"
   ]
  },
  {
   "cell_type": "markdown",
   "metadata": {},
   "source": [
    "- 割る数nを割られる数mから引きまくって，mが以下になったらreturnする\n",
    "- なんてことはない\n",
    "- 比較演算子(<=)を定義できれば行けそうだ!\n",
    "\n",
    "```\n",
    "m <= n\n",
    "m - n <= 0\n",
    "```\n",
    "\n",
    "- 数m-nと0の比較ができれば，<=を定義できたことになる\n",
    "- 我々の「数」においては，ゼロ以下の数は存在しない\n",
    "    - decrement の定義より\n",
    "- すなわち「aがゼロ以下」のとき，「a==0」となる\n",
    "- すでにIS_ZEROは定義済みなので，<=が定義できそうだ"
   ]
  },
  {
   "cell_type": "code",
   "execution_count": 40,
   "metadata": {
    "collapsed": false
   },
   "outputs": [
    {
     "data": {
      "text/plain": [
       "#<Proc:0x007feddc816830@<main>:1 (lambda)>"
      ]
     },
     "execution_count": 40,
     "metadata": {},
     "output_type": "execute_result"
    }
   ],
   "source": [
    "# m <= n\n",
    "IS_LESS_OR_EQUAL = -> m {-> n { IS_ZERO[SUBTRACT[m][n]]}}"
   ]
  },
  {
   "cell_type": "code",
   "execution_count": 41,
   "metadata": {
    "collapsed": false
   },
   "outputs": [
    {
     "name": "stdout",
     "output_type": "stream",
     "text": [
      "false\n",
      "true\n"
     ]
    }
   ],
   "source": [
    "puts to_boolean(IS_LESS_OR_EQUAL[FIVE][ONE])\n",
    "puts to_boolean(IS_LESS_OR_EQUAL[ONE][FIVE])"
   ]
  },
  {
   "cell_type": "markdown",
   "metadata": {},
   "source": [
    "- IS_LESS_OR_EQUALを用いてMODを定義しよう"
   ]
  },
  {
   "cell_type": "code",
   "execution_count": 42,
   "metadata": {
    "collapsed": false
   },
   "outputs": [
    {
     "data": {
      "text/plain": [
       "#<Proc:0x007feddb112990@<main>:0 (lambda)>"
      ]
     },
     "execution_count": 42,
     "metadata": {},
     "output_type": "execute_result"
    }
   ],
   "source": [
    "MOD = -> m { -> n {\n",
    "    IF[IS_LESS_OR_EQUAL[n][m]][\n",
    "      MOD[SUBTRACT[m][n]][n]\n",
    "      ][\n",
    "      m\n",
    "    ]\n",
    "}}"
   ]
  },
  {
   "cell_type": "markdown",
   "metadata": {},
   "source": [
    "- ただしこのままでは動かない\n",
    "- rubyのifは遅延評価だが．IFは正格評価のため\n",
    "    - cond評価の前にthen/else節を評価する\n",
    "    - 無限にthen節が呼ばれる\n",
    "    - `MOD[SUBTRACT[ZERO][n]][n]` の繰り返しである\n",
    "- then 節を遅延させたい\n",
    "    - procでくるめばok\n",
    "    - 等価性を思い出す\n",
    "    - `p` = `->x {p[x]}`\n",
    "    "
   ]
  },
  {
   "cell_type": "code",
   "execution_count": 43,
   "metadata": {
    "collapsed": false
   },
   "outputs": [
    {
     "data": {
      "text/plain": [
       "#<Proc:0x007feddb0a0c28@<main>:0 (lambda)>"
      ]
     },
     "execution_count": 43,
     "metadata": {},
     "output_type": "execute_result"
    }
   ],
   "source": [
    "MYMOD = -> m { -> n {\n",
    "    IF[IS_LESS_OR_EQUAL[n][m]][\n",
    "      -> x {\n",
    "        MYMOD[SUBTRACT[m][n]][n][x]\n",
    "        }\n",
    "      ][\n",
    "        m\n",
    "        ]\n",
    "}}"
   ]
  },
  {
   "cell_type": "code",
   "execution_count": 44,
   "metadata": {
    "collapsed": false
   },
   "outputs": [
    {
     "name": "stdout",
     "output_type": "stream",
     "text": [
      "false\n",
      "1\n"
     ]
    }
   ],
   "source": [
    "puts to_boolean(IS_LESS_OR_EQUAL[FIVE][TWO])\n",
    "puts to_integer(MYMOD[THREE][TWO])"
   ]
  },
  {
   "cell_type": "markdown",
   "metadata": {},
   "source": [
    "- このコードはMYMODを変数として再帰のために利用している\n",
    "- 代入の機能をつかっているではないか！\n",
    "- 再帰関数定義のためのprocがひつよう\n",
    "- 通称Yコンビネータ\n",
    "     - よーするに：fを無限に繰り返します\n",
    "- 手を動かして考えたほうがわかると思う"
   ]
  },
  {
   "cell_type": "code",
   "execution_count": 45,
   "metadata": {
    "collapsed": false
   },
   "outputs": [
    {
     "data": {
      "text/plain": [
       "#<Proc:0x007feddb051ad8@<main>:0 (lambda)>"
      ]
     },
     "execution_count": 45,
     "metadata": {},
     "output_type": "execute_result"
    }
   ],
   "source": [
    "Y = -> f { -> x { f[x[x]] }[-> x { f[x[x]] }] }"
   ]
  },
  {
   "cell_type": "markdown",
   "metadata": {},
   "source": [
    "- これも無限評価となるので遅延verにする必要がある\n",
    "- pointは `x[x]`による再帰呼び出し"
   ]
  },
  {
   "cell_type": "code",
   "execution_count": 46,
   "metadata": {
    "collapsed": false
   },
   "outputs": [
    {
     "data": {
      "text/plain": [
       "#<Proc:0x007feddc15bf68@<main>:0 (lambda)>"
      ]
     },
     "execution_count": 46,
     "metadata": {},
     "output_type": "execute_result"
    }
   ],
   "source": [
    "Z = -> f { -> x { f[-> y { x[x][y] }] }[-> x { f[-> y { x[x][y] }] }] }"
   ]
  },
  {
   "cell_type": "code",
   "execution_count": 55,
   "metadata": {
    "collapsed": false
   },
   "outputs": [
    {
     "name": "stderr",
     "output_type": "stream",
     "text": [
      "<main>: warning: already initialized constant ZMOD\n"
     ]
    },
    {
     "data": {
      "text/plain": [
       "#<Proc:0x007feddb1d5030@<main>:1 (lambda)>"
      ]
     },
     "execution_count": 55,
     "metadata": {},
     "output_type": "execute_result"
    }
   ],
   "source": [
    "ZMOD = \n",
    "  Z[-> f {-> m { -> n {\n",
    "    IF[IS_LESS_OR_EQUAL[n][m]][\n",
    "      -> x {\n",
    "        f[SUBTRACT[m][n]][n][x]\n",
    "        }\n",
    "      ][\n",
    "        m\n",
    "      ]\n",
    "}}}]"
   ]
  },
  {
   "cell_type": "code",
   "execution_count": 57,
   "metadata": {
    "collapsed": false
   },
   "outputs": [
    {
     "name": "stdout",
     "output_type": "stream",
     "text": [
      "1\n"
     ]
    }
   ],
   "source": [
    "puts to_integer(ZMOD[THREE][TWO])"
   ]
  },
  {
   "cell_type": "markdown",
   "metadata": {},
   "source": [
    "- チラ裏memo\n",
    "- Zコンビネータに渡すprocにfが増えるのなんじゃい\n",
    "- おそらく自分自身を指すものだろう\n",
    "- コンビネータに渡された関数は f[f[f...]] みたいになるはず\n",
    "- fは自分自身なので，内側カッコからは `m -> SUBTRACT[m][n], n->n` で自身が呼ばれるのではないか？\n",
    "- 一周目fにおいて，第一引数fはf[f[..]]となる(ややこしや\n",
    "- 遅延評価なので渡されさえすれば一周目ロジックはうごかせる\n",
    "- IS_LESS_OR_EQUALがtrueの時のみ，再びfの呼び出しが評価される\n",
    "- 第一引数は自身の無限呼び出しをするprocが入っており，何度呼ばれようが自身が返る．みたいなイメージだな\n",
    "- 書かないとワカンネ"
   ]
  },
  {
   "cell_type": "code",
   "execution_count": null,
   "metadata": {
    "collapsed": true
   },
   "outputs": [],
   "source": []
  }
 ],
 "metadata": {
  "kernelspec": {
   "display_name": "Ruby 2.2.2",
   "language": "ruby",
   "name": "ruby"
  },
  "language_info": {
   "file_extension": "rb",
   "mimetype": "application/x-ruby",
   "name": "ruby",
   "version": "2.2.2"
  }
 },
 "nbformat": 4,
 "nbformat_minor": 0
}
