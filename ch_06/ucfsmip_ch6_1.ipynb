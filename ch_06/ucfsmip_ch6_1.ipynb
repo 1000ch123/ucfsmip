{
 "cells": [
  {
   "cell_type": "markdown",
   "metadata": {},
   "source": [
    "## 第二部\n",
    "\n",
    "- 今まで\n",
    "    - 計算をモデル化してきた\n",
    "        - ch2: SIMPLE\n",
    "        - ch3: DFA/NFA\n",
    "        - ch4: DPDA/NPDA\n",
    "        - ch5: DTM\n",
    "    - 計算ってなんだろう？を考えてきた\n",
    "         - 質問に答えるもの\n",
    "         - 入力に対し出力返すもの\n",
    "    - 人間がわかりやすい形での理解だった\n",
    "- こっから\n",
    "    - 人間の理解しやすい形**ではない**形式で考えていく"
   ]
  },
  {
   "cell_type": "markdown",
   "metadata": {},
   "source": [
    "## chapter 6\n",
    "- ゼロから計算の概念を組み立てていく\n",
    "- 型なしラムダ計算\n",
    "    - ch6.1: rubyのprocを用いてlambda計算（っぽいこと）をする\n",
    "    - ch6.2: lambda計算を実装する"
   ]
  },
  {
   "cell_type": "markdown",
   "metadata": {},
   "source": [
    "## 6.1: ラムダ計算をまねる\n",
    "- 最小限の機能でプログラムを書こう\n",
    "- 使用禁止\n",
    "    - gem\n",
    "    - std lib\n",
    "    - module\n",
    "    - method\n",
    "    - class\n",
    "    - object\n",
    "    - 制御構造\n",
    "    - 代入\n",
    "    - 配列\n",
    "    - 文字列\n",
    "    - 数値\n",
    "    - ブール値\n",
    "- 使用可能\n",
    "    - 変数参照\n",
    "        - aliasとしての変数利用\n",
    "        - ?代入禁止とconflictするのでは\n",
    "    - proc生成\n",
    "    - proc呼び出し\n",
    "    \n",
    "- 要するに：論理構造，データ構造などすべて禁止．自前でつくっていく\n",
    "- こんな感じですべてを表す"
   ]
  },
  {
   "cell_type": "markdown",
   "metadata": {},
   "source": [
    "### 6.1.1: procのポイント\n",
    "\n",
    "procってなにができるの"
   ]
  },
  {
   "cell_type": "code",
   "execution_count": 75,
   "metadata": {
    "collapsed": false
   },
   "outputs": [
    {
     "data": {
      "text/plain": [
       "#<Proc:0x007febfc058f58@<main>:1 (lambda)>"
      ]
     },
     "execution_count": 75,
     "metadata": {},
     "output_type": "execute_result"
    }
   ],
   "source": [
    "#proc\n",
    "-> x { -> { x.call(y)}}"
   ]
  },
  {
   "cell_type": "markdown",
   "metadata": {
    "collapsed": true
   },
   "source": [
    "#### 6.1.1.1 配管\n",
    "\n",
    "callできるよ"
   ]
  },
  {
   "cell_type": "code",
   "execution_count": 76,
   "metadata": {
    "collapsed": false
   },
   "outputs": [
    {
     "data": {
      "text/plain": [
       "3"
      ]
     },
     "execution_count": 76,
     "metadata": {},
     "output_type": "execute_result"
    }
   ],
   "source": [
    "# call\n",
    "-> x {x + 2}.call(1)"
   ]
  },
  {
   "cell_type": "markdown",
   "metadata": {},
   "source": [
    "#### 6.1.1.2 引数\n",
    "\n",
    "複数引数取れるよ"
   ]
  },
  {
   "cell_type": "code",
   "execution_count": 77,
   "metadata": {
    "collapsed": false
   },
   "outputs": [
    {
     "data": {
      "text/plain": [
       "7"
      ]
     },
     "execution_count": 77,
     "metadata": {},
     "output_type": "execute_result"
    }
   ],
   "source": [
    "-> x,y {x + y}.call(3,4)"
   ]
  },
  {
   "cell_type": "markdown",
   "metadata": {},
   "source": [
    "でも別に，複数引数撮れることはmustじゃないよ\n",
    "\n",
    "仮にprocが単引数しか許容しなかったとしても，同じことは出来るよ"
   ]
  },
  {
   "cell_type": "code",
   "execution_count": 78,
   "metadata": {
    "collapsed": false
   },
   "outputs": [
    {
     "data": {
      "text/plain": [
       "7"
      ]
     },
     "execution_count": 78,
     "metadata": {},
     "output_type": "execute_result"
    }
   ],
   "source": [
    "-> x {\n",
    "  -> y {\n",
    "    x + y\n",
    "  }\n",
    "}.call(3).call(4)"
   ]
  },
  {
   "cell_type": "markdown",
   "metadata": {},
   "source": [
    "この場合，引数を少なく返すと「残りの引数を受け取るproc」が返るよ"
   ]
  },
  {
   "cell_type": "code",
   "execution_count": 79,
   "metadata": {
    "collapsed": false
   },
   "outputs": [
    {
     "data": {
      "text/plain": [
       "#<Proc:0x007febfd0db830@<main>:2 (lambda)>"
      ]
     },
     "execution_count": 79,
     "metadata": {},
     "output_type": "execute_result"
    }
   ],
   "source": [
    "# 2引数のところ1引数で渡すと..\n",
    "addThree = -> x {\n",
    "  -> y {\n",
    "    x + y\n",
    "  }\n",
    "}.call(3)"
   ]
  },
  {
   "cell_type": "code",
   "execution_count": 80,
   "metadata": {
    "collapsed": false
   },
   "outputs": [
    {
     "data": {
      "text/plain": [
       "7"
      ]
     },
     "execution_count": 80,
     "metadata": {},
     "output_type": "execute_result"
    }
   ],
   "source": [
    "# 引数に3をたす関数になった\n",
    "addThree.call(4)"
   ]
  },
  {
   "cell_type": "code",
   "execution_count": 81,
   "metadata": {
    "collapsed": false
   },
   "outputs": [
    {
     "data": {
      "text/plain": [
       "13"
      ]
     },
     "execution_count": 81,
     "metadata": {},
     "output_type": "execute_result"
    }
   ],
   "source": [
    "addThree.call(10)"
   ]
  },
  {
   "cell_type": "markdown",
   "metadata": {},
   "source": [
    "いわゆるカリー化である"
   ]
  },
  {
   "cell_type": "markdown",
   "metadata": {},
   "source": [
    "#### 6.1.1.3 等価性\n",
    "\n",
    "内部定義が違っても，同じ呼び出しに同じ結果を返すなら等価である\n",
    "外延等価性というらしい\n",
    "\n",
    "以下は等価である"
   ]
  },
  {
   "cell_type": "code",
   "execution_count": 82,
   "metadata": {
    "collapsed": false
   },
   "outputs": [
    {
     "data": {
      "text/plain": [
       "#<Proc:0x007febfd06adb0@<main>:0 (lambda)>"
      ]
     },
     "execution_count": 82,
     "metadata": {},
     "output_type": "execute_result"
    }
   ],
   "source": [
    "p = -> n {n * 2}"
   ]
  },
  {
   "cell_type": "code",
   "execution_count": 83,
   "metadata": {
    "collapsed": false
   },
   "outputs": [
    {
     "data": {
      "text/plain": [
       "#<Proc:0x007febfd04a060@<main>:0 (lambda)>"
      ]
     },
     "execution_count": 83,
     "metadata": {},
     "output_type": "execute_result"
    }
   ],
   "source": [
    "q = -> x { p.call(x)}"
   ]
  },
  {
   "cell_type": "code",
   "execution_count": 84,
   "metadata": {
    "collapsed": false
   },
   "outputs": [
    {
     "name": "stdout",
     "output_type": "stream",
     "text": [
      "20\n",
      "20\n"
     ]
    }
   ],
   "source": [
    "puts p.call(10)\n",
    "puts q.call(10)"
   ]
  },
  {
   "cell_type": "markdown",
   "metadata": {},
   "source": [
    "等価であれば，交換可能であるのは自然の理\n",
    "\n",
    "```\n",
    "p = q\n",
    "p = -> x { p.call(x)}\n",
    "```\n",
    "すなわち，\n",
    "\n",
    "```\n",
    "-> x {p.call(x)}\n",
    "```\n",
    "なるパターンを見つけたら無条件で `p` に書き換えてok"
   ]
  },
  {
   "cell_type": "markdown",
   "metadata": {},
   "source": [
    "#### 6.1.1.4 構文\n",
    "\n",
    "引数はこんな形でも与えられるよ"
   ]
  },
  {
   "cell_type": "code",
   "execution_count": 85,
   "metadata": {
    "collapsed": false
   },
   "outputs": [
    {
     "data": {
      "text/plain": [
       "15"
      ]
     },
     "execution_count": 85,
     "metadata": {},
     "output_type": "execute_result"
    }
   ],
   "source": [
    "-> x {x + 5}[10]"
   ]
  },
  {
   "cell_type": "markdown",
   "metadata": {},
   "source": [
    "### 6.1.2 問題\n",
    "\n",
    "FizzBuzzを先の制約のもとかいてみよう\n",
    "\n",
    "まずは普通にrubyつかってFizzBuzzかいて，それをstep by stepで変換していくよ"
   ]
  },
  {
   "cell_type": "code",
   "execution_count": 86,
   "metadata": {
    "collapsed": false
   },
   "outputs": [
    {
     "data": {
      "text/plain": [
       "[1, 2, \"Fizz\", 4, \"Buzz\", \"Fizz\", 7, 8, \"Fizz\", \"Buzz\", 11, \"Fizz\", 13, 14, \"FizzBuzz\", 16, 17, \"Fizz\", 19, \"Buzz\", \"Fizz\", 22, 23, \"Fizz\", \"Buzz\", 26, \"Fizz\", 28, 29, \"FizzBuzz\", 31, 32, \"Fizz\", 34, \"Buzz\", \"Fizz\", 37, 38, \"Fizz\", \"Buzz\", 41, \"Fizz\", 43, 44, \"FizzBuzz\", 46, 47, \"Fizz\", 49, \"Buzz\", \"Fizz\", 52, 53, \"Fizz\", \"Buzz\", 56, \"Fizz\", 58, 59, \"FizzBuzz\", 61, 62, \"Fizz\", 64, \"Buzz\", \"Fizz\", 67, 68, \"Fizz\", \"Buzz\", 71, \"Fizz\", 73, 74, \"FizzBuzz\", 76, 77, \"Fizz\", 79, \"Buzz\", \"Fizz\", 82, 83, \"Fizz\", \"Buzz\", 86, \"Fizz\", 88, 89, \"FizzBuzz\", 91, 92, \"Fizz\", 94, \"Buzz\", \"Fizz\", 97, 98, \"Fizz\", \"Buzz\"]"
      ]
     },
     "execution_count": 86,
     "metadata": {},
     "output_type": "execute_result"
    }
   ],
   "source": [
    "# いわゆるFizzBuzz\n",
    "(1..100).map do |n|\n",
    "  if (n % 15).zero?\n",
    "    'FizzBuzz'\n",
    "  elsif (n % 3).zero?\n",
    "    'Fizz'\n",
    "  elsif (n % 5).zero?\n",
    "    'Buzz'\n",
    "  else\n",
    "    n\n",
    "  end\n",
    "end"
   ]
  },
  {
   "cell_type": "markdown",
   "metadata": {},
   "source": [
    "このコードは使っちゃいけないものばかり使っているね\n",
    "\n",
    "- 数\n",
    "- ブール値\n",
    "- 制御構造(if/elsif/else)\n",
    "- 演算\n",
    "- リスト( (1..100))\n",
    "- 文字列\n",
    "- etc.\n",
    "\n",
    "ひとつずつ，すべてprocで表現していくよ"
   ]
  },
  {
   "cell_type": "markdown",
   "metadata": {},
   "source": [
    "### 6.1.3 数\n",
    "\n",
    "- 「数」という概念を「1,2,3..」を使わずに表現するよ\n",
    "- 「数」ってなんだ？\n",
    "    - ０の次に１\n",
    "    - 1の次に２\n",
    "    - ２の次に3..\n",
    "- 1とか2のラベルに意味は無い\n",
    "    - 表現の形でしか無いからね\n",
    "    - 本質は「連続・反復を表す概念である」ということ\n",
    "    - 我々は 0->1->2 という連続性を知っているので，これらのラベルは「数」を表現できる\n",
    "        - その意味では「あ，い，う，え，お」とかも一緒\n",
    "        - 実際16進数だとA,B..Fつかってるよね\n",
    "- 「連続・反復」の概念を表現できれば，数を表現できる\n",
    "    - 0: なにもしないこと\n",
    "    - 1: アクションを行うこと\n",
    "    - 2: アクションを行った後，アクションを行うこと\n",
    "    - 3: アクションを行った後，アクションを行った後，アクションを行うこと\n",
    "    - 以下略\n",
    "    - 再帰っぽいな！"
   ]
  },
  {
   "cell_type": "code",
   "execution_count": 87,
   "metadata": {
    "collapsed": false
   },
   "outputs": [
    {
     "data": {
      "text/plain": [
       ":two"
      ]
     },
     "execution_count": 87,
     "metadata": {},
     "output_type": "execute_result"
    }
   ],
   "source": [
    "# ruby風に数を表現\n",
    "def zero (proc, x)\n",
    "  x\n",
    "end\n",
    "\n",
    "def one (proc, x)\n",
    "  proc[x]\n",
    "end\n",
    "\n",
    "def two (proc, x)\n",
    "  proc[proc[x]]\n",
    "end"
   ]
  },
  {
   "cell_type": "markdown",
   "metadata": {},
   "source": [
    "よーするに：引数xに対しproc p を「何度」適用するか？で数を表す"
   ]
  },
  {
   "cell_type": "code",
   "execution_count": 88,
   "metadata": {
    "collapsed": false
   },
   "outputs": [
    {
     "name": "stderr",
     "output_type": "stream",
     "text": [
      "<main>:1: warning: already initialized constant ZERO\n",
      "<main>:1: warning: previous definition of ZERO was here\n",
      "<main>:2: warning: already initialized constant ONE\n",
      "<main>:2: warning: previous definition of ONE was here\n",
      "<main>:3: warning: already initialized constant TWO\n",
      "<main>:3: warning: previous definition of TWO was here\n"
     ]
    },
    {
     "data": {
      "text/plain": [
       "#<Proc:0x007febfd8ccee0@<main>:3 (lambda)>"
      ]
     },
     "execution_count": 88,
     "metadata": {},
     "output_type": "execute_result"
    }
   ],
   "source": [
    "# procで同じことをやると\n",
    "ZERO = -> p { -> x { x}}\n",
    "ONE = -> p { -> x {p[x]}}\n",
    "TWO = -> p { -> x {p[p[x]]}}"
   ]
  },
  {
   "cell_type": "markdown",
   "metadata": {},
   "source": [
    "スッキリかけて気持ちいいね！でも頭がこんがらがってきそうだね！\n",
    "\n",
    "- このままだと本当にZEROが0, ONEが1なのか？がわかりづらい\n",
    "- 人間が理解しやすいように，これらの値をruby世界の「数」に変換する関数をつくろう"
   ]
  },
  {
   "cell_type": "code",
   "execution_count": 89,
   "metadata": {
    "collapsed": false
   },
   "outputs": [
    {
     "data": {
      "text/plain": [
       ":to_integer"
      ]
     },
     "execution_count": 89,
     "metadata": {},
     "output_type": "execute_result"
    }
   ],
   "source": [
    "# ZERO/ONE/..を0/1/..に変換する\n",
    "def to_integer(proc)\n",
    "  proc[-> x { x+1}][0]\n",
    "end"
   ]
  },
  {
   "cell_type": "code",
   "execution_count": 90,
   "metadata": {
    "collapsed": false
   },
   "outputs": [
    {
     "name": "stdout",
     "output_type": "stream",
     "text": [
      "0\n",
      "1\n",
      "2\n"
     ]
    }
   ],
   "source": [
    "puts to_integer(ZERO)\n",
    "puts to_integer(ONE)\n",
    "puts to_integer(TWO)"
   ]
  },
  {
   "cell_type": "markdown",
   "metadata": {},
   "source": [
    "これで，FizzBuzzにひつような数 3, 5, 15, 100が定義できる！"
   ]
  },
  {
   "cell_type": "code",
   "execution_count": 91,
   "metadata": {
    "collapsed": false
   },
   "outputs": [
    {
     "name": "stderr",
     "output_type": "stream",
     "text": [
      "<main>:1: warning: already initialized constant THREE\n",
      "<main>:1: warning: previous definition of THREE was here\n",
      "<main>:1: warning: already initialized constant FIVE\n",
      "<main>:1: warning: previous definition of FIVE was here\n",
      "<main>:2: warning: already initialized constant FIFTEEN\n",
      "<main>:2: warning: previous definition of FIFTEEN was here\n",
      "<main>:3: warning: already initialized constant HUNDRED\n",
      "<main>:3: warning: previous definition of HUNDRED was here\n"
     ]
    },
    {
     "data": {
      "text/plain": [
       "#<Proc:0x007febfd988e88@<main>:3 (lambda)>"
      ]
     },
     "execution_count": 91,
     "metadata": {},
     "output_type": "execute_result"
    }
   ],
   "source": [
    "THREE = -> p { -> x {p[p[p[x]]]}}\n",
    "FIVE = -> p{ -> x {p[p[p[p[p[x]]]]]}}\n",
    "FIFTEEN = -> p{ -> x {p[p[p[p[p[p[p[p[p[p[p[p[p[p[p[x]]]]]]]]]]]]]]]}}\n",
    "HUNDRED = -> p{ -> x {p[p[p[p[p[p[p[p[p[p[p[p[p[p[p[p[p[p[p[p[p[p[p[p[p[p[p[p[p[p[p[p[p[p[p[p[p[p[p[p[p[p[p[p[p[p[p[p[p[p[p[p[p[p[p[p[p[p[p[p[p[p[p[p[p[p[p[p[p[p[p[p[p[p[p[p[p[p[p[p[p[p[p[p[p[p[p[p[p[p[p[p[p[p[p[p[p[p[p[p[x]]]]]]]]]]]]]]]]]]]]]]]]]]]]]]]]]]]]]]]]]]]]]]]]]]]]]]]]]]]]]]]]]]]]]]]]]]]]]]]]]]]]]]]]]]]]]]]]]]]]}}"
   ]
  },
  {
   "cell_type": "code",
   "execution_count": 92,
   "metadata": {
    "collapsed": false
   },
   "outputs": [
    {
     "name": "stdout",
     "output_type": "stream",
     "text": [
      "3\n",
      "5\n",
      "15\n",
      "100\n"
     ]
    }
   ],
   "source": [
    "puts to_integer(THREE)\n",
    "puts to_integer(FIVE)\n",
    "puts to_integer(FIFTEEN)\n",
    "puts to_integer(HUNDRED)"
   ]
  },
  {
   "cell_type": "markdown",
   "metadata": {},
   "source": [
    "以上を用いてFizzBuzzはこうなります"
   ]
  },
  {
   "cell_type": "code",
   "execution_count": 93,
   "metadata": {
    "collapsed": false
   },
   "outputs": [
    {
     "ename": "ArgumentError",
     "evalue": "bad value for range",
     "output_type": "error",
     "traceback": [
      "\u001b[31mArgumentError\u001b[0m: bad value for range",
      "\u001b[37m<main>:1:in `<main>'\u001b[0m",
      "\u001b[37m/Users/masa/.anyenv/envs/rbenv/versions/2.2.2/lib/ruby/gems/2.2.0/gems/iruby-0.2.7/lib/iruby/backend.rb:44:in `eval'\u001b[0m",
      "\u001b[37m/Users/masa/.anyenv/envs/rbenv/versions/2.2.2/lib/ruby/gems/2.2.0/gems/iruby-0.2.7/lib/iruby/backend.rb:44:in `eval'\u001b[0m",
      "\u001b[37m/Users/masa/.anyenv/envs/rbenv/versions/2.2.2/lib/ruby/gems/2.2.0/gems/iruby-0.2.7/lib/iruby/backend.rb:12:in `eval'\u001b[0m",
      "\u001b[37m/Users/masa/.anyenv/envs/rbenv/versions/2.2.2/lib/ruby/gems/2.2.0/gems/iruby-0.2.7/lib/iruby/kernel.rb:87:in `execute_request'\u001b[0m",
      "\u001b[37m/Users/masa/.anyenv/envs/rbenv/versions/2.2.2/lib/ruby/gems/2.2.0/gems/iruby-0.2.7/lib/iruby/kernel.rb:47:in `dispatch'\u001b[0m",
      "\u001b[37m/Users/masa/.anyenv/envs/rbenv/versions/2.2.2/lib/ruby/gems/2.2.0/gems/iruby-0.2.7/lib/iruby/kernel.rb:37:in `run'\u001b[0m",
      "\u001b[37m/Users/masa/.anyenv/envs/rbenv/versions/2.2.2/lib/ruby/gems/2.2.0/gems/iruby-0.2.7/lib/iruby/command.rb:70:in `run_kernel'\u001b[0m",
      "\u001b[37m/Users/masa/.anyenv/envs/rbenv/versions/2.2.2/lib/ruby/gems/2.2.0/gems/iruby-0.2.7/lib/iruby/command.rb:34:in `run'\u001b[0m",
      "\u001b[37m/Users/masa/.anyenv/envs/rbenv/versions/2.2.2/lib/ruby/gems/2.2.0/gems/iruby-0.2.7/bin/iruby:5:in `<top (required)>'\u001b[0m",
      "\u001b[37m/Users/masa/.anyenv/envs/rbenv/versions/2.2.2/bin/iruby:23:in `load'\u001b[0m",
      "\u001b[37m/Users/masa/.anyenv/envs/rbenv/versions/2.2.2/bin/iruby:23:in `<main>'\u001b[0m"
     ]
    }
   ],
   "source": [
    "#  数をprocで表現\n",
    "(ONE..HUNDRED).map do |n|\n",
    "  if (n % FIFTEEN).zero?\n",
    "    'FizzBuzz'\n",
    "  elsif (n % THREE).zero?\n",
    "    'Fizz'\n",
    "  elsif (n % FIVE).zero?\n",
    "    'Buzz'\n",
    "  else\n",
    "    n\n",
    "  end\n",
    "end"
   ]
  },
  {
   "cell_type": "markdown",
   "metadata": {},
   "source": [
    "ただし，まだ独自の「数」に対して % とか .. とかを定義していないので，上のプログラムは動きません"
   ]
  },
  {
   "cell_type": "markdown",
   "metadata": {},
   "source": [
    "### 6.1.4 ブール値"
   ]
  },
  {
   "cell_type": "markdown",
   "metadata": {},
   "source": [
    "- ブール値ってなんだ？\n",
    "    - True/False\n",
    "    - ２つの選択肢から一つを選ぶもの\n",
    "        - if bool then true_statement else false_statement\n",
    "    - 最初から true_statement, false_statement のどちらかを返すもの，と定義できる"
   ]
  },
  {
   "cell_type": "code",
   "execution_count": 94,
   "metadata": {
    "collapsed": false
   },
   "outputs": [
    {
     "data": {
      "text/plain": [
       ":false"
      ]
     },
     "execution_count": 94,
     "metadata": {},
     "output_type": "execute_result"
    }
   ],
   "source": [
    "# rubyふうに\n",
    "def true(x,y)\n",
    "  x\n",
    "end\n",
    "\n",
    "def false(x,y)\n",
    "  y\n",
    "end"
   ]
  },
  {
   "cell_type": "code",
   "execution_count": 95,
   "metadata": {
    "collapsed": false
   },
   "outputs": [
    {
     "name": "stderr",
     "output_type": "stream",
     "text": [
      "<main>:2: warning: already initialized constant MY_TRUE\n",
      "<main>:2: warning: previous definition of MY_TRUE was here\n",
      "<main>:3: warning: already initialized constant MY_FALSE\n",
      "<main>:3: warning: previous definition of MY_FALSE was here\n"
     ]
    },
    {
     "data": {
      "text/plain": [
       "#<Proc:0x007febfd8f6bf0@<main>:3 (lambda)>"
      ]
     },
     "execution_count": 95,
     "metadata": {},
     "output_type": "execute_result"
    }
   ],
   "source": [
    "# procふうに\n",
    "# TRUE/FALSEは予約語っぽいorz\n",
    "MY_TRUE = -> x { -> y { x }}\n",
    "MY_FALSE = -> x { -> y { y }}"
   ]
  },
  {
   "cell_type": "markdown",
   "metadata": {},
   "source": [
    "変換も簡単"
   ]
  },
  {
   "cell_type": "code",
   "execution_count": 96,
   "metadata": {
    "collapsed": false
   },
   "outputs": [
    {
     "data": {
      "text/plain": [
       ":to_boolean"
      ]
     },
     "execution_count": 96,
     "metadata": {},
     "output_type": "execute_result"
    }
   ],
   "source": [
    "def to_boolean(proc)\n",
    "  proc[true][false]\n",
    "end"
   ]
  },
  {
   "cell_type": "code",
   "execution_count": 97,
   "metadata": {
    "collapsed": false
   },
   "outputs": [
    {
     "name": "stdout",
     "output_type": "stream",
     "text": [
      "true\n",
      "false\n"
     ]
    }
   ],
   "source": [
    "puts to_boolean(MY_TRUE)\n",
    "puts to_boolean(MY_FALSE)"
   ]
  },
  {
   "cell_type": "markdown",
   "metadata": {},
   "source": [
    "合せて制御構造 if/elsif/else も定義しよう"
   ]
  },
  {
   "cell_type": "code",
   "execution_count": 98,
   "metadata": {
    "collapsed": false
   },
   "outputs": [
    {
     "data": {
      "text/plain": [
       ":if_"
      ]
     },
     "execution_count": 98,
     "metadata": {},
     "output_type": "execute_result"
    }
   ],
   "source": [
    "# ruby ふうに\n",
    "def if_(proc, x, y)\n",
    "  proc[x][y]\n",
    "end"
   ]
  },
  {
   "cell_type": "code",
   "execution_count": 99,
   "metadata": {
    "collapsed": false
   },
   "outputs": [
    {
     "name": "stderr",
     "output_type": "stream",
     "text": [
      "<main>:1: warning: already initialized constant IF\n",
      "<main>:1: warning: previous definition of IF was here\n"
     ]
    },
    {
     "data": {
      "text/plain": [
       "#<Proc:0x007febfc092f28@<main>:1 (lambda)>"
      ]
     },
     "execution_count": 99,
     "metadata": {},
     "output_type": "execute_result"
    }
   ],
   "source": [
    "# procふうに\n",
    "IF = -> b { -> x { -> y { b[x][y]}}}"
   ]
  },
  {
   "cell_type": "markdown",
   "metadata": {},
   "source": [
    "ここで procの変換ルールを思い出そう\n",
    "\n",
    "`-> x { p[x]} ` == `p` だった\n",
    "\n",
    "これをIFに適用\n",
    "\n",
    "```\n",
    "-> b {-> x {-> y { b[x][y]}}}\n",
    "-> b {-> x {        b[x]      }}\n",
    "-> b {              b          }}\n",
    "```\n",
    "\n",
    "そもそも true/falseを「２つの選択肢から一つを選ぶもの」として定義したので，ごく当たり前の話ではあるね"
   ]
  },
  {
   "cell_type": "code",
   "execution_count": 100,
   "metadata": {
    "collapsed": false
   },
   "outputs": [
    {
     "ename": "ArgumentError",
     "evalue": "bad value for range",
     "output_type": "error",
     "traceback": [
      "\u001b[31mArgumentError\u001b[0m: bad value for range",
      "\u001b[37m<main>:1:in `<main>'\u001b[0m",
      "\u001b[37m/Users/masa/.anyenv/envs/rbenv/versions/2.2.2/lib/ruby/gems/2.2.0/gems/iruby-0.2.7/lib/iruby/backend.rb:44:in `eval'\u001b[0m",
      "\u001b[37m/Users/masa/.anyenv/envs/rbenv/versions/2.2.2/lib/ruby/gems/2.2.0/gems/iruby-0.2.7/lib/iruby/backend.rb:44:in `eval'\u001b[0m",
      "\u001b[37m/Users/masa/.anyenv/envs/rbenv/versions/2.2.2/lib/ruby/gems/2.2.0/gems/iruby-0.2.7/lib/iruby/backend.rb:12:in `eval'\u001b[0m",
      "\u001b[37m/Users/masa/.anyenv/envs/rbenv/versions/2.2.2/lib/ruby/gems/2.2.0/gems/iruby-0.2.7/lib/iruby/kernel.rb:87:in `execute_request'\u001b[0m",
      "\u001b[37m/Users/masa/.anyenv/envs/rbenv/versions/2.2.2/lib/ruby/gems/2.2.0/gems/iruby-0.2.7/lib/iruby/kernel.rb:47:in `dispatch'\u001b[0m",
      "\u001b[37m/Users/masa/.anyenv/envs/rbenv/versions/2.2.2/lib/ruby/gems/2.2.0/gems/iruby-0.2.7/lib/iruby/kernel.rb:37:in `run'\u001b[0m",
      "\u001b[37m/Users/masa/.anyenv/envs/rbenv/versions/2.2.2/lib/ruby/gems/2.2.0/gems/iruby-0.2.7/lib/iruby/command.rb:70:in `run_kernel'\u001b[0m",
      "\u001b[37m/Users/masa/.anyenv/envs/rbenv/versions/2.2.2/lib/ruby/gems/2.2.0/gems/iruby-0.2.7/lib/iruby/command.rb:34:in `run'\u001b[0m",
      "\u001b[37m/Users/masa/.anyenv/envs/rbenv/versions/2.2.2/lib/ruby/gems/2.2.0/gems/iruby-0.2.7/bin/iruby:5:in `<top (required)>'\u001b[0m",
      "\u001b[37m/Users/masa/.anyenv/envs/rbenv/versions/2.2.2/bin/iruby:23:in `load'\u001b[0m",
      "\u001b[37m/Users/masa/.anyenv/envs/rbenv/versions/2.2.2/bin/iruby:23:in `<main>'\u001b[0m"
     ]
    }
   ],
   "source": [
    "# 数，bool値をprocで\n",
    "(ONE..HUNDRED).map do |n|\n",
    "  IF[(n % FIFTEEN).zero?][\n",
    "    'FizzBuzz'\n",
    "  ][IF[(n % THREE).zero?][\n",
    "    'Fizz'\n",
    "  ][IF[(n % FIVE).zero?][\n",
    "    'Buzz'\n",
    "  ][\n",
    "    n\n",
    "  ]]]\n",
    "end"
   ]
  },
  {
   "cell_type": "markdown",
   "metadata": {},
   "source": [
    "### 6.1.5 述語\n",
    "\n",
    "- FizzBuzzをつくるためには，余りがゼロかの判定が必要（.zero?）\n",
    "- 我々は「数」を「アクションを行う回数」と定義した\n",
    "- 「常にfalse返すproc」をtrueに何度も適用する，とかんがえる"
   ]
  },
  {
   "cell_type": "code",
   "execution_count": 101,
   "metadata": {
    "collapsed": false
   },
   "outputs": [
    {
     "data": {
      "text/plain": [
       ":zreo?"
      ]
     },
     "execution_count": 101,
     "metadata": {},
     "output_type": "execute_result"
    }
   ],
   "source": [
    "# rubyふう\n",
    "def zreo?(proc)\n",
    "  proc[->x{FALSE}][TRUE]\n",
    "end"
   ]
  },
  {
   "cell_type": "code",
   "execution_count": 102,
   "metadata": {
    "collapsed": false
   },
   "outputs": [
    {
     "name": "stderr",
     "output_type": "stream",
     "text": [
      "<main>:1: warning: already initialized constant IS_ZERO\n",
      "<main>:1: warning: previous definition of IS_ZERO was here\n"
     ]
    },
    {
     "data": {
      "text/plain": [
       "#<Proc:0x007febfd856060@<main>:1 (lambda)>"
      ]
     },
     "execution_count": 102,
     "metadata": {},
     "output_type": "execute_result"
    }
   ],
   "source": [
    "# procふう\n",
    "IS_ZERO = -> p { p[ -> x {MY_FALSE}][MY_TRUE]}"
   ]
  },
  {
   "cell_type": "code",
   "execution_count": 103,
   "metadata": {
    "collapsed": false
   },
   "outputs": [
    {
     "name": "stdout",
     "output_type": "stream",
     "text": [
      "true\n",
      "false\n"
     ]
    }
   ],
   "source": [
    "puts to_boolean( IS_ZERO[ZERO])\n",
    "puts to_boolean( IS_ZERO[ONE])"
   ]
  },
  {
   "cell_type": "code",
   "execution_count": 104,
   "metadata": {
    "collapsed": false
   },
   "outputs": [
    {
     "ename": "ArgumentError",
     "evalue": "bad value for range",
     "output_type": "error",
     "traceback": [
      "\u001b[31mArgumentError\u001b[0m: bad value for range",
      "\u001b[37m<main>:1:in `<main>'\u001b[0m",
      "\u001b[37m/Users/masa/.anyenv/envs/rbenv/versions/2.2.2/lib/ruby/gems/2.2.0/gems/iruby-0.2.7/lib/iruby/backend.rb:44:in `eval'\u001b[0m",
      "\u001b[37m/Users/masa/.anyenv/envs/rbenv/versions/2.2.2/lib/ruby/gems/2.2.0/gems/iruby-0.2.7/lib/iruby/backend.rb:44:in `eval'\u001b[0m",
      "\u001b[37m/Users/masa/.anyenv/envs/rbenv/versions/2.2.2/lib/ruby/gems/2.2.0/gems/iruby-0.2.7/lib/iruby/backend.rb:12:in `eval'\u001b[0m",
      "\u001b[37m/Users/masa/.anyenv/envs/rbenv/versions/2.2.2/lib/ruby/gems/2.2.0/gems/iruby-0.2.7/lib/iruby/kernel.rb:87:in `execute_request'\u001b[0m",
      "\u001b[37m/Users/masa/.anyenv/envs/rbenv/versions/2.2.2/lib/ruby/gems/2.2.0/gems/iruby-0.2.7/lib/iruby/kernel.rb:47:in `dispatch'\u001b[0m",
      "\u001b[37m/Users/masa/.anyenv/envs/rbenv/versions/2.2.2/lib/ruby/gems/2.2.0/gems/iruby-0.2.7/lib/iruby/kernel.rb:37:in `run'\u001b[0m",
      "\u001b[37m/Users/masa/.anyenv/envs/rbenv/versions/2.2.2/lib/ruby/gems/2.2.0/gems/iruby-0.2.7/lib/iruby/command.rb:70:in `run_kernel'\u001b[0m",
      "\u001b[37m/Users/masa/.anyenv/envs/rbenv/versions/2.2.2/lib/ruby/gems/2.2.0/gems/iruby-0.2.7/lib/iruby/command.rb:34:in `run'\u001b[0m",
      "\u001b[37m/Users/masa/.anyenv/envs/rbenv/versions/2.2.2/lib/ruby/gems/2.2.0/gems/iruby-0.2.7/bin/iruby:5:in `<top (required)>'\u001b[0m",
      "\u001b[37m/Users/masa/.anyenv/envs/rbenv/versions/2.2.2/bin/iruby:23:in `load'\u001b[0m",
      "\u001b[37m/Users/masa/.anyenv/envs/rbenv/versions/2.2.2/bin/iruby:23:in `<main>'\u001b[0m"
     ]
    }
   ],
   "source": [
    "# 数,bool値,述語をprocで\n",
    "(ONE..HUNDRED).map do |n|\n",
    "  IF[IS_ZERO[(n % FIFTEEN)]][\n",
    "    'FizzBuzz'\n",
    "  ][IF[IS_ZERO[(n % THREE)]][\n",
    "    'Fizz'\n",
    "  ][IF[IS_ZERO[(n % FIVE)]][\n",
    "    'Buzz'\n",
    "  ][\n",
    "    n\n",
    "  ]]]\n",
    "end"
   ]
  },
  {
   "cell_type": "markdown",
   "metadata": {},
   "source": [
    "### 6.1.6 ペア\n",
    "- プリミティブとして数値，ブール値を定義した\n",
    "- データ構造が欲しくなる\n",
    "- ペアを定義する\n",
    "\n",
    "- 要件\n",
    "    - 2つの要素をもつ\n",
    "    - left で1つ目の要素を取得\n",
    "    - right で2つ目の要素を取得"
   ]
  },
  {
   "cell_type": "code",
   "execution_count": 105,
   "metadata": {
    "collapsed": false
   },
   "outputs": [
    {
     "name": "stderr",
     "output_type": "stream",
     "text": [
      "<main>:1: warning: already initialized constant PAIR\n",
      "<main>:1: warning: previous definition of PAIR was here\n",
      "<main>:2: warning: already initialized constant LEFT\n",
      "<main>:2: warning: previous definition of LEFT was here\n",
      "<main>:3: warning: already initialized constant RIGHT\n",
      "<main>:3: warning: previous definition of RIGHT was here\n"
     ]
    },
    {
     "data": {
      "text/plain": [
       "#<Proc:0x007febfd81d440@<main>:3 (lambda)>"
      ]
     },
     "execution_count": 105,
     "metadata": {},
     "output_type": "execute_result"
    }
   ],
   "source": [
    "# procふうに\n",
    "PAIR = -> x { -> y { -> f { f[x][y] }}}\n",
    "LEFT = -> p { p[ -> x { -> y {x}}]} \n",
    "RIGHT = -> p { p[-> x { -> y {y}}]} "
   ]
  },
  {
   "cell_type": "markdown",
   "metadata": {},
   "source": [
    "パッと見難しいけど，落ち着いて考えればやってることは簡単\n",
    "\n",
    "- pair : procを受け取り，「予め受け取っていた二数x,y」を適用するproc\n",
    "- left: procを受け取り，「二数x,yを受け取りxを返すproc」を適用するproc\n",
    "- right: procを受け取り，「二数x,yを受け取りyを返すproc」を適用するproc"
   ]
  },
  {
   "cell_type": "markdown",
   "metadata": {
    "collapsed": true
   },
   "source": [
    "### 6.1.7 数値演算\n",
    "\n",
    "- 各種データ型がそろってきた\n",
    "- 演算を定義する"
   ]
  },
  {
   "cell_type": "markdown",
   "metadata": {},
   "source": [
    "- まずはインクリメント\n",
    "- 数 = p,x を受け取ってxにpを指定回数適用するもの\n",
    "- インクリメント: nに更にpを適用する"
   ]
  },
  {
   "cell_type": "code",
   "execution_count": 106,
   "metadata": {
    "collapsed": false
   },
   "outputs": [
    {
     "name": "stderr",
     "output_type": "stream",
     "text": [
      "<main>: warning: already initialized constant INCREMENT\n"
     ]
    },
    {
     "data": {
      "text/plain": [
       "#<Proc:0x007febfd069050@<main>:0 (lambda)>"
      ]
     },
     "execution_count": 106,
     "metadata": {},
     "output_type": "execute_result"
    }
   ],
   "source": [
    "INCREMENT = -> n { -> p { -> x {p[n[p][x]]}}}"
   ]
  },
  {
   "cell_type": "markdown",
   "metadata": {},
   "source": [
    "- デクリメント\n",
    "- n回適用された時，一回戻ったものを返す\n",
    "    - むずかしい\n",
    "- pairを利用，slideという概念の導入\n"
   ]
  },
  {
   "cell_type": "code",
   "execution_count": 107,
   "metadata": {
    "collapsed": false
   },
   "outputs": [
    {
     "name": "stdout",
     "output_type": "stream",
     "text": [
      "[4, 5]\n",
      "[8, 9]\n",
      "[4, 5]\n",
      "[4, 5]\n"
     ]
    }
   ],
   "source": [
    "def slide(pair)\n",
    "  [pair.last, pair.last+1]\n",
    "end\n",
    "\n",
    "# 一つずつずれたものになる\n",
    "puts slide([3,4])\n",
    "puts slide([7,8])\n",
    "\n",
    "# ぶっちゃけ重要なの後ろの数だけ\n",
    "puts slide([0, 4])\n",
    "puts slide([10000, 4])"
   ]
  },
  {
   "cell_type": "markdown",
   "metadata": {},
   "source": [
    "- 数n: xにpをn回適用するもの\n",
    "- [0,0]にslideをn回適用する -> [n-1, n]\n",
    "- left取ればdecrementできてる！"
   ]
  },
  {
   "cell_type": "code",
   "execution_count": 108,
   "metadata": {
    "collapsed": false
   },
   "outputs": [
    {
     "ename": "SyntaxError",
     "evalue": "<main>:1: syntax error, unexpected end-of-input, expecting '}'\nDECREMENT = -> n { LEFT[n[SLIDE][PAIR[ZERO][ZERO]]]\n                                                   ^",
     "output_type": "error",
     "traceback": [
      "\u001b[31mSyntaxError\u001b[0m: <main>:1: syntax error, unexpected end-of-input, expecting '}'\nDECREMENT = -> n { LEFT[n[SLIDE][PAIR[ZERO][ZERO]]]\n                                                   ^",
      "\u001b[37m/Users/masa/.anyenv/envs/rbenv/versions/2.2.2/lib/ruby/gems/2.2.0/gems/iruby-0.2.7/lib/iruby/backend.rb:44:in `eval'\u001b[0m",
      "\u001b[37m/Users/masa/.anyenv/envs/rbenv/versions/2.2.2/lib/ruby/gems/2.2.0/gems/iruby-0.2.7/lib/iruby/backend.rb:44:in `eval'\u001b[0m",
      "\u001b[37m/Users/masa/.anyenv/envs/rbenv/versions/2.2.2/lib/ruby/gems/2.2.0/gems/iruby-0.2.7/lib/iruby/backend.rb:12:in `eval'\u001b[0m",
      "\u001b[37m/Users/masa/.anyenv/envs/rbenv/versions/2.2.2/lib/ruby/gems/2.2.0/gems/iruby-0.2.7/lib/iruby/kernel.rb:87:in `execute_request'\u001b[0m",
      "\u001b[37m/Users/masa/.anyenv/envs/rbenv/versions/2.2.2/lib/ruby/gems/2.2.0/gems/iruby-0.2.7/lib/iruby/kernel.rb:47:in `dispatch'\u001b[0m",
      "\u001b[37m/Users/masa/.anyenv/envs/rbenv/versions/2.2.2/lib/ruby/gems/2.2.0/gems/iruby-0.2.7/lib/iruby/kernel.rb:37:in `run'\u001b[0m",
      "\u001b[37m/Users/masa/.anyenv/envs/rbenv/versions/2.2.2/lib/ruby/gems/2.2.0/gems/iruby-0.2.7/lib/iruby/command.rb:70:in `run_kernel'\u001b[0m",
      "\u001b[37m/Users/masa/.anyenv/envs/rbenv/versions/2.2.2/lib/ruby/gems/2.2.0/gems/iruby-0.2.7/lib/iruby/command.rb:34:in `run'\u001b[0m",
      "\u001b[37m/Users/masa/.anyenv/envs/rbenv/versions/2.2.2/lib/ruby/gems/2.2.0/gems/iruby-0.2.7/bin/iruby:5:in `<top (required)>'\u001b[0m",
      "\u001b[37m/Users/masa/.anyenv/envs/rbenv/versions/2.2.2/bin/iruby:23:in `load'\u001b[0m",
      "\u001b[37m/Users/masa/.anyenv/envs/rbenv/versions/2.2.2/bin/iruby:23:in `<main>'\u001b[0m"
     ]
    }
   ],
   "source": [
    "SLIDE = -> p {PAIR[RIGHT[p]][INCREMENT[RIGHT[p]]]}\n",
    "DECREMENT = -> n { LEFT[n[SLIDE][PAIR[ZERO][ZERO]]]}"
   ]
  },
  {
   "cell_type": "code",
   "execution_count": 109,
   "metadata": {
    "collapsed": false
   },
   "outputs": [
    {
     "name": "stdout",
     "output_type": "stream",
     "text": [
      "0\n",
      "4\n",
      "99\n"
     ]
    }
   ],
   "source": [
    "puts to_integer(DECREMENT[ONE])\n",
    "puts to_integer(DECREMENT[FIVE])\n",
    "puts to_integer(DECREMENT[HUNDRED])"
   ]
  },
  {
   "cell_type": "markdown",
   "metadata": {},
   "source": [
    "- 以上を用いれば四則演算が定義できるよ\n",
    "- カリー化してることに注目するとわかりやすいかも"
   ]
  },
  {
   "cell_type": "code",
   "execution_count": 142,
   "metadata": {
    "collapsed": false
   },
   "outputs": [
    {
     "name": "stderr",
     "output_type": "stream",
     "text": [
      "<main>:1: warning: already initialized constant ADD\n",
      "<main>:1: warning: previous definition of ADD was here\n",
      "<main>:1: warning: already initialized constant SUBTRACT\n",
      "<main>:1: warning: previous definition of SUBTRACT was here\n",
      "<main>:2: warning: already initialized constant MULTIPLY\n",
      "<main>:2: warning: previous definition of MULTIPLY was here\n",
      "<main>:3: warning: already initialized constant POWER\n",
      "<main>:3: warning: previous definition of POWER was here\n"
     ]
    },
    {
     "data": {
      "text/plain": [
       "#<Proc:0x007febfda7a508@<main>:3 (lambda)>"
      ]
     },
     "execution_count": 142,
     "metadata": {},
     "output_type": "execute_result"
    }
   ],
   "source": [
    "ADD = -> m { -> n { n[INCREMENT][m] }}\n",
    "SUBTRACT = -> m { -> n {n[DECREMENT][m]}}\n",
    "MULTIPLY = -> m { -> n {n[ADD[m]][ZERO]}}\n",
    "POWER = -> m { -> n { n[MULTIPLY[m]][ONE]}}"
   ]
  },
  {
   "cell_type": "code",
   "execution_count": 111,
   "metadata": {
    "collapsed": false
   },
   "outputs": [
    {
     "name": "stderr",
     "output_type": "stream",
     "text": [
      "<main>:3: warning: already initialized constant ADD_FIVE\n",
      "<main>:3: warning: previous definition of ADD_FIVE was here\n",
      "<main>:6: warning: already initialized constant ADD_N\n",
      "<main>:6: warning: previous definition of ADD_N was here\n",
      "<main>:9: warning: already initialized constant ADD_N_TO_M\n",
      "<main>:9: warning: previous definition of ADD_N_TO_M was here\n"
     ]
    },
    {
     "data": {
      "text/plain": [
       "#<Proc:0x007febfc873558@<main>:9 (lambda)>"
      ]
     },
     "execution_count": 111,
     "metadata": {},
     "output_type": "execute_result"
    }
   ],
   "source": [
    "# こう考えるとわかりやすいかも\n",
    "\n",
    "# 「5を足す」というproc\n",
    "ADD_FIVE = FIVE[INCREMENT]\n",
    "\n",
    "# nを受け「nを足す」というprocを返すproc\n",
    "ADD_N = -> n {n[INCREMENT]}\n",
    "\n",
    "#  mにnを受け「nを足す」というprocを返すprocを適用\n",
    "\n",
    "ADD_N_TO_M = -> m { -> n {ADD_N[n][m]}}"
   ]
  },
  {
   "cell_type": "code",
   "execution_count": 144,
   "metadata": {
    "collapsed": false
   },
   "outputs": [
    {
     "name": "stderr",
     "output_type": "stream",
     "text": [
      "<main>:3: warning: already initialized constant MYADD\n",
      "<main>:1: warning: previous definition of MYADD was here\n"
     ]
    },
    {
     "name": "stdout",
     "output_type": "stream",
     "text": [
      "7\n"
     ]
    },
    {
     "name": "stderr",
     "output_type": "stream",
     "text": [
      "<main>:7: warning: already initialized constant MYMUL\n",
      "<main>:5: warning: previous definition of MYMUL was here\n"
     ]
    },
    {
     "name": "stdout",
     "output_type": "stream",
     "text": [
      "10\n"
     ]
    }
   ],
   "source": [
    "# +α\n",
    "\n",
    "# add，これでよくね？\n",
    "MYADD = -> m {-> n { -> p { -> x {m[p][n[p][x]]}}}}\n",
    "puts to_integer(MYADD[TWO][FIVE])\n",
    "\n",
    "# mul,　これでよくね？\n",
    "MYMUL = -> m {-> n { -> p {m[n[p]]}}}\n",
    "puts to_integer(MYMUL[TWO][FIVE])"
   ]
  },
  {
   "cell_type": "markdown",
   "metadata": {},
   "source": [
    "Haskell風に書くとこんなんとか\n",
    "\n",
    "```\n",
    "ZERO = \\x -> x\n",
    "\n",
    "```"
   ]
  },
  {
   "cell_type": "markdown",
   "metadata": {},
   "source": [
    "- あとは剰余（%）がほしい"
   ]
  },
  {
   "cell_type": "code",
   "execution_count": 112,
   "metadata": {
    "collapsed": false
   },
   "outputs": [
    {
     "data": {
      "text/plain": [
       ":my_mod"
      ]
     },
     "execution_count": 112,
     "metadata": {},
     "output_type": "execute_result"
    }
   ],
   "source": [
    "def my_mod(m,n)\n",
    "  if n <= m\n",
    "    mod(m-n, n)\n",
    "  else\n",
    "    m\n",
    "  end\n",
    "end"
   ]
  },
  {
   "cell_type": "markdown",
   "metadata": {},
   "source": [
    "- 割る数nを割られる数mから引きまくって，mが以下になったらreturnする\n",
    "- なんてことはない\n",
    "- 比較演算子(<=)を定義できれば行けそうだ!\n",
    "\n",
    "```\n",
    "m <= n\n",
    "m - n <= 0\n",
    "```\n",
    "\n",
    "- 数m-nと0の比較ができれば，<=を定義できたことになる\n",
    "- 我々の「数」においては，ゼロ以下の数は存在しない\n",
    "    - decrement の定義より\n",
    "- すなわち「aがゼロ以下」のとき，「a==0」となる\n",
    "- すでにIS_ZEROは定義済みなので，<=が定義できそうだ"
   ]
  },
  {
   "cell_type": "code",
   "execution_count": 113,
   "metadata": {
    "collapsed": false
   },
   "outputs": [
    {
     "name": "stderr",
     "output_type": "stream",
     "text": [
      "<main>:1: warning: already initialized constant IS_LESS_OR_EQUAL\n",
      "<main>:1: warning: previous definition of IS_LESS_OR_EQUAL was here\n"
     ]
    },
    {
     "data": {
      "text/plain": [
       "#<Proc:0x007febfc86bad8@<main>:1 (lambda)>"
      ]
     },
     "execution_count": 113,
     "metadata": {},
     "output_type": "execute_result"
    }
   ],
   "source": [
    "# m <= n\n",
    "IS_LESS_OR_EQUAL = -> m {-> n { IS_ZERO[SUBTRACT[m][n]]}}"
   ]
  },
  {
   "cell_type": "code",
   "execution_count": 114,
   "metadata": {
    "collapsed": false
   },
   "outputs": [
    {
     "name": "stdout",
     "output_type": "stream",
     "text": [
      "false\n",
      "true\n"
     ]
    }
   ],
   "source": [
    "puts to_boolean(IS_LESS_OR_EQUAL[FIVE][ONE])\n",
    "puts to_boolean(IS_LESS_OR_EQUAL[ONE][FIVE])"
   ]
  },
  {
   "cell_type": "markdown",
   "metadata": {},
   "source": [
    "- IS_LESS_OR_EQUALを用いてMODを定義しよう"
   ]
  },
  {
   "cell_type": "code",
   "execution_count": 115,
   "metadata": {
    "collapsed": false
   },
   "outputs": [
    {
     "name": "stderr",
     "output_type": "stream",
     "text": [
      "<main>: warning: already initialized constant MOD\n"
     ]
    },
    {
     "data": {
      "text/plain": [
       "#<Proc:0x007febfd94fed0@<main>:0 (lambda)>"
      ]
     },
     "execution_count": 115,
     "metadata": {},
     "output_type": "execute_result"
    }
   ],
   "source": [
    "MOD = -> m { -> n {\n",
    "    IF\n",
    "    [IS_LESS_OR_EQUAL[n][m]]\n",
    "    [MOD[SUBTRACT[m][n]][n]]\n",
    "    [m]\n",
    "}}"
   ]
  },
  {
   "cell_type": "markdown",
   "metadata": {},
   "source": [
    "- ただしこのままでは動かない\n",
    "- rubyのifは遅延評価だが．IFは正格評価のため\n",
    "    - cond評価の前にthen/else節を評価する\n",
    "    - 無限にthen節が呼ばれる\n",
    "    - `MOD[SUBTRACT[ZERO][n]][n]` の繰り返しである\n",
    "- then 節を遅延させたい\n",
    "    - procでくるめばok\n",
    "    - 等価性を思い出す\n",
    "    - `p` = `->x {p[x]}`\n",
    "    "
   ]
  },
  {
   "cell_type": "code",
   "execution_count": 136,
   "metadata": {
    "collapsed": false
   },
   "outputs": [
    {
     "name": "stderr",
     "output_type": "stream",
     "text": [
      "<main>: warning: already initialized constant MYMOD\n"
     ]
    },
    {
     "data": {
      "text/plain": [
       "#<Proc:0x007febfda92c98@<main>:0 (lambda)>"
      ]
     },
     "execution_count": 136,
     "metadata": {},
     "output_type": "execute_result"
    }
   ],
   "source": [
    "MYMOD = -> m { -> n {\n",
    "    IF[IS_LESS_OR_EQUAL[n][m]][\n",
    "      -> x {\n",
    "        MYMOD[SUBTRACT[m][n]][n][x]\n",
    "        }\n",
    "      ][\n",
    "        m\n",
    "        ]\n",
    "}}"
   ]
  },
  {
   "cell_type": "code",
   "execution_count": 137,
   "metadata": {
    "collapsed": false
   },
   "outputs": [
    {
     "name": "stdout",
     "output_type": "stream",
     "text": [
      "false\n",
      "1\n"
     ]
    }
   ],
   "source": [
    "puts to_boolean(IS_LESS_OR_EQUAL[FIVE][TWO])\n",
    "puts to_integer(MYMOD[THREE][TWO])"
   ]
  },
  {
   "cell_type": "markdown",
   "metadata": {},
   "source": [
    "- このコードはMYMODを変数として再帰のために利用している\n",
    "- 代入の機能をつかっているではないか！\n",
    "- 再帰関数定義のためのprocがひつよう\n",
    "- 通称Yコンビネータ\n",
    "     - よーするに：fを無限に繰り返します\n",
    "- 手を動かして考えたほうがわかると思う"
   ]
  },
  {
   "cell_type": "code",
   "execution_count": 138,
   "metadata": {
    "collapsed": false
   },
   "outputs": [
    {
     "data": {
      "text/plain": [
       "#<Proc:0x007febfd1d95c0@<main>:0 (lambda)>"
      ]
     },
     "execution_count": 138,
     "metadata": {},
     "output_type": "execute_result"
    }
   ],
   "source": [
    "Y = -> f { -> x { f[x[x]] }[-> x { f[x[x]] }] }"
   ]
  },
  {
   "cell_type": "code",
   "execution_count": 139,
   "metadata": {
    "collapsed": false
   },
   "outputs": [
    {
     "data": {
      "text/plain": [
       "#<Proc:0x007febfc181178@<main>:0 (lambda)>"
      ]
     },
     "execution_count": 139,
     "metadata": {},
     "output_type": "execute_result"
    }
   ],
   "source": [
    "Z = -> f { -> x { f[-> y { x[x][y] }] }[-> x { f[-> y { x[x][y] }] }] }"
   ]
  },
  {
   "cell_type": "code",
   "execution_count": null,
   "metadata": {
    "collapsed": true
   },
   "outputs": [],
   "source": []
  }
 ],
 "metadata": {
  "kernelspec": {
   "display_name": "Ruby 2.2.2",
   "language": "ruby",
   "name": "ruby"
  },
  "language_info": {
   "file_extension": "rb",
   "mimetype": "application/x-ruby",
   "name": "ruby",
   "version": "2.2.2"
  }
 },
 "nbformat": 4,
 "nbformat_minor": 0
}
