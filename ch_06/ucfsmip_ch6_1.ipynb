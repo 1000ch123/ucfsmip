{
 "cells": [
  {
   "cell_type": "markdown",
   "metadata": {},
   "source": [
    "## 第二部\n",
    "\n",
    "- 今まで\n",
    "    - 計算をモデル化してきた\n",
    "        - ch2: SIMPLE\n",
    "        - ch3: DFA/NFA\n",
    "        - ch4: DPDA/NPDA\n",
    "        - ch5: DTM\n",
    "    - 計算ってなんだろう？を考えてきた\n",
    "         - 質問に答えるもの\n",
    "         - 入力に対し出力返すもの\n",
    "    - 人間がわかりやすい形での理解だった\n",
    "- こっから\n",
    "    - 人間の理解しやすい形**ではない**形式で考えていく"
   ]
  },
  {
   "cell_type": "markdown",
   "metadata": {},
   "source": [
    "## chapter 6\n",
    "- ゼロから計算の概念を組み立てていく\n",
    "- 型なしラムダ計算\n",
    "    - ch6.1: rubyのprocを用いてlambda計算（っぽいこと）をする\n",
    "    - ch6.2: lambda計算を実装する"
   ]
  },
  {
   "cell_type": "markdown",
   "metadata": {},
   "source": [
    "## 6.1: ラムダ計算をまねる\n",
    "- 最小限の機能でプログラムを書こう\n",
    "- 使用禁止\n",
    "    - gem\n",
    "    - std lib\n",
    "    - module\n",
    "    - method\n",
    "    - class\n",
    "    - object\n",
    "    - 制御構造\n",
    "    - 代入\n",
    "    - 配列\n",
    "    - 文字列\n",
    "    - 数値\n",
    "    - ブール値\n",
    "- 使用可能\n",
    "    - 変数参照\n",
    "        - aliasとしての変数利用\n",
    "        - ?代入禁止とconflictするのでは\n",
    "    - proc生成\n",
    "    - proc呼び出し\n",
    "    \n",
    "- 要するに：論理構造，データ構造などすべて禁止．自前でつくっていく\n",
    "- こんな感じですべてを表す"
   ]
  },
  {
   "cell_type": "markdown",
   "metadata": {},
   "source": [
    "### 6.1.1: procのポイント\n",
    "\n",
    "procってなにができるの"
   ]
  },
  {
   "cell_type": "code",
   "execution_count": 1,
   "metadata": {
    "collapsed": false
   },
   "outputs": [
    {
     "data": {
      "text/plain": [
       "#<Proc:0x007fc79d82eff8@<main>:1 (lambda)>"
      ]
     },
     "execution_count": 1,
     "metadata": {},
     "output_type": "execute_result"
    }
   ],
   "source": [
    "#proc\n",
    "-> x { -> { x.call(y)}}"
   ]
  },
  {
   "cell_type": "markdown",
   "metadata": {
    "collapsed": true
   },
   "source": [
    "#### 6.1.1.1 配管\n",
    "\n",
    "callできるよ"
   ]
  },
  {
   "cell_type": "code",
   "execution_count": 2,
   "metadata": {
    "collapsed": false
   },
   "outputs": [
    {
     "data": {
      "text/plain": [
       "3"
      ]
     },
     "execution_count": 2,
     "metadata": {},
     "output_type": "execute_result"
    }
   ],
   "source": [
    "# call\n",
    "-> x {x + 2}.call(1)"
   ]
  },
  {
   "cell_type": "markdown",
   "metadata": {},
   "source": [
    "#### 6.1.1.2 引数\n",
    "\n",
    "複数引数取れるよ"
   ]
  },
  {
   "cell_type": "code",
   "execution_count": 3,
   "metadata": {
    "collapsed": false
   },
   "outputs": [
    {
     "data": {
      "text/plain": [
       "7"
      ]
     },
     "execution_count": 3,
     "metadata": {},
     "output_type": "execute_result"
    }
   ],
   "source": [
    "-> x,y {x + y}.call(3,4)"
   ]
  },
  {
   "cell_type": "markdown",
   "metadata": {},
   "source": [
    "でも別に，複数引数撮れることはmustじゃないよ\n",
    "\n",
    "仮にprocが単引数しか許容しなかったとしても，同じことは出来るよ"
   ]
  },
  {
   "cell_type": "code",
   "execution_count": 4,
   "metadata": {
    "collapsed": false
   },
   "outputs": [
    {
     "data": {
      "text/plain": [
       "7"
      ]
     },
     "execution_count": 4,
     "metadata": {},
     "output_type": "execute_result"
    }
   ],
   "source": [
    "-> x {\n",
    "  -> y {\n",
    "    x + y\n",
    "  }\n",
    "}.call(3).call(4)"
   ]
  },
  {
   "cell_type": "markdown",
   "metadata": {},
   "source": [
    "この場合，引数を少なく返すと「残りの引数を受け取るproc」が返るよ"
   ]
  },
  {
   "cell_type": "code",
   "execution_count": 5,
   "metadata": {
    "collapsed": false
   },
   "outputs": [
    {
     "data": {
      "text/plain": [
       "#<Proc:0x007fc79d01f290@<main>:2 (lambda)>"
      ]
     },
     "execution_count": 5,
     "metadata": {},
     "output_type": "execute_result"
    }
   ],
   "source": [
    "# 2引数のところ1引数で渡すと..\n",
    "addThree = -> x {\n",
    "  -> y {\n",
    "    x + y\n",
    "  }\n",
    "}.call(3)"
   ]
  },
  {
   "cell_type": "code",
   "execution_count": 6,
   "metadata": {
    "collapsed": false
   },
   "outputs": [
    {
     "data": {
      "text/plain": [
       "7"
      ]
     },
     "execution_count": 6,
     "metadata": {},
     "output_type": "execute_result"
    }
   ],
   "source": [
    "# 引数に3をたす関数になった\n",
    "addThree.call(4)"
   ]
  },
  {
   "cell_type": "code",
   "execution_count": 7,
   "metadata": {
    "collapsed": false
   },
   "outputs": [
    {
     "data": {
      "text/plain": [
       "13"
      ]
     },
     "execution_count": 7,
     "metadata": {},
     "output_type": "execute_result"
    }
   ],
   "source": [
    "addThree.call(10)"
   ]
  },
  {
   "cell_type": "markdown",
   "metadata": {},
   "source": [
    "いわゆるカリー化である"
   ]
  },
  {
   "cell_type": "markdown",
   "metadata": {},
   "source": [
    "#### 6.1.1.3 等価性\n",
    "\n",
    "内部定義が違っても，同じ呼び出しに同じ結果を返すなら等価である\n",
    "外延等価性というらしい\n",
    "\n",
    "以下は等価である"
   ]
  },
  {
   "cell_type": "code",
   "execution_count": 8,
   "metadata": {
    "collapsed": false
   },
   "outputs": [
    {
     "data": {
      "text/plain": [
       "#<Proc:0x007fc79c82c600@<main>:0 (lambda)>"
      ]
     },
     "execution_count": 8,
     "metadata": {},
     "output_type": "execute_result"
    }
   ],
   "source": [
    "p = -> n {n * 2}"
   ]
  },
  {
   "cell_type": "code",
   "execution_count": 9,
   "metadata": {
    "collapsed": false
   },
   "outputs": [
    {
     "data": {
      "text/plain": [
       "#<Proc:0x007fc79d1384d8@<main>:0 (lambda)>"
      ]
     },
     "execution_count": 9,
     "metadata": {},
     "output_type": "execute_result"
    }
   ],
   "source": [
    "q = -> x { p.call(x)}"
   ]
  },
  {
   "cell_type": "code",
   "execution_count": 10,
   "metadata": {
    "collapsed": false
   },
   "outputs": [
    {
     "name": "stdout",
     "output_type": "stream",
     "text": [
      "20\n",
      "20\n"
     ]
    }
   ],
   "source": [
    "puts p.call(10)\n",
    "puts q.call(10)"
   ]
  },
  {
   "cell_type": "markdown",
   "metadata": {},
   "source": [
    "等価であれば，交換可能であるのは自然の理\n",
    "\n",
    "```\n",
    "p = q\n",
    "p = -> x { p.call(x)}\n",
    "```\n",
    "すなわち，\n",
    "\n",
    "```\n",
    "-> x {p.call(x)}\n",
    "```\n",
    "なるパターンを見つけたら無条件で `p` に書き換えてok"
   ]
  },
  {
   "cell_type": "markdown",
   "metadata": {},
   "source": [
    "#### 6.1.1.4 構文\n",
    "\n",
    "引数はこんな形でも与えられるよ"
   ]
  },
  {
   "cell_type": "code",
   "execution_count": 11,
   "metadata": {
    "collapsed": false
   },
   "outputs": [
    {
     "data": {
      "text/plain": [
       "15"
      ]
     },
     "execution_count": 11,
     "metadata": {},
     "output_type": "execute_result"
    }
   ],
   "source": [
    "-> x {x + 5}[10]"
   ]
  },
  {
   "cell_type": "markdown",
   "metadata": {},
   "source": [
    "### 6.1.2 問題\n",
    "\n",
    "FizzBuzzを先の制約のもとかいてみよう\n",
    "\n",
    "まずは普通にrubyつかってFizzBuzzかいて，それをstep by stepで変換していくよ"
   ]
  },
  {
   "cell_type": "code",
   "execution_count": 12,
   "metadata": {
    "collapsed": false
   },
   "outputs": [
    {
     "data": {
      "text/plain": [
       "[1, 2, \"Fizz\", 4, \"Buzz\", \"Fizz\", 7, 8, \"Fizz\", \"Buzz\", 11, \"Fizz\", 13, 14, \"FizzBuzz\", 16, 17, \"Fizz\", 19, \"Buzz\", \"Fizz\", 22, 23, \"Fizz\", \"Buzz\", 26, \"Fizz\", 28, 29, \"FizzBuzz\", 31, 32, \"Fizz\", 34, \"Buzz\", \"Fizz\", 37, 38, \"Fizz\", \"Buzz\", 41, \"Fizz\", 43, 44, \"FizzBuzz\", 46, 47, \"Fizz\", 49, \"Buzz\", \"Fizz\", 52, 53, \"Fizz\", \"Buzz\", 56, \"Fizz\", 58, 59, \"FizzBuzz\", 61, 62, \"Fizz\", 64, \"Buzz\", \"Fizz\", 67, 68, \"Fizz\", \"Buzz\", 71, \"Fizz\", 73, 74, \"FizzBuzz\", 76, 77, \"Fizz\", 79, \"Buzz\", \"Fizz\", 82, 83, \"Fizz\", \"Buzz\", 86, \"Fizz\", 88, 89, \"FizzBuzz\", 91, 92, \"Fizz\", 94, \"Buzz\", \"Fizz\", 97, 98, \"Fizz\", \"Buzz\"]"
      ]
     },
     "execution_count": 12,
     "metadata": {},
     "output_type": "execute_result"
    }
   ],
   "source": [
    "# いわゆるFizzBuzz\n",
    "(1..100).map do |n|\n",
    "  if (n % 15).zero?\n",
    "    'FizzBuzz'\n",
    "  elsif (n % 3).zero?\n",
    "    'Fizz'\n",
    "  elsif (n % 5).zero?\n",
    "    'Buzz'\n",
    "  else\n",
    "    n\n",
    "  end\n",
    "end"
   ]
  },
  {
   "cell_type": "markdown",
   "metadata": {},
   "source": [
    "このコードは使っちゃいけないものばかり使っているね\n",
    "\n",
    "- 数\n",
    "- ブール値\n",
    "- 制御構造(if/elsif/else)\n",
    "- 演算\n",
    "- リスト( (1..100))\n",
    "- 文字列\n",
    "- etc.\n",
    "\n",
    "ひとつずつ，すべてprocで表現していくよ"
   ]
  },
  {
   "cell_type": "markdown",
   "metadata": {},
   "source": [
    "### 6.1.3 数\n",
    "\n",
    "- 「数」という概念を「1,2,3..」を使わずに表現するよ\n",
    "- 「数」ってなんだ？\n",
    "    - ０の次に１\n",
    "    - 1の次に２\n",
    "    - ２の次に3..\n",
    "- 1とか2のラベルに意味は無い\n",
    "    - 表現の形でしか無いからね\n",
    "    - 本質は「連続・反復を表す概念である」ということ\n",
    "    - 我々は 0->1->2 という連続性を知っているので，これらのラベルは「数」を表現できる\n",
    "        - その意味では「あ，い，う，え，お」とかも一緒\n",
    "        - 実際16進数だとA,B..Fつかってるよね\n",
    "- 「連続・反復」の概念を表現できれば，数を表現できる\n",
    "    - 0: なにもしないこと\n",
    "    - 1: アクションを行うこと\n",
    "    - 2: アクションを行った後，アクションを行うこと\n",
    "    - 3: アクションを行った後，アクションを行った後，アクションを行うこと\n",
    "    - 以下略\n",
    "    - 再帰っぽいな！"
   ]
  },
  {
   "cell_type": "code",
   "execution_count": 13,
   "metadata": {
    "collapsed": false
   },
   "outputs": [
    {
     "data": {
      "text/plain": [
       ":two"
      ]
     },
     "execution_count": 13,
     "metadata": {},
     "output_type": "execute_result"
    }
   ],
   "source": [
    "# ruby風に数を表現\n",
    "def zero (proc, x)\n",
    "  x\n",
    "end\n",
    "\n",
    "def one (proc, x)\n",
    "  proc[x]\n",
    "end\n",
    "\n",
    "def two (proc, x)\n",
    "  proc[proc[x]]\n",
    "end"
   ]
  },
  {
   "cell_type": "markdown",
   "metadata": {},
   "source": [
    "よーするに：引数xに対しproc p を「何度」適用するか？で数を表す"
   ]
  },
  {
   "cell_type": "code",
   "execution_count": 14,
   "metadata": {
    "collapsed": false
   },
   "outputs": [
    {
     "data": {
      "text/plain": [
       "#<Proc:0x007fc79d905a08@<main>:3 (lambda)>"
      ]
     },
     "execution_count": 14,
     "metadata": {},
     "output_type": "execute_result"
    }
   ],
   "source": [
    "# procで同じことをやると\n",
    "ZERO = -> p { -> x { x}}\n",
    "ONE = -> p { -> x {p[x]}}\n",
    "TWO = -> p { -> x {p[p[x]]}}"
   ]
  },
  {
   "cell_type": "markdown",
   "metadata": {},
   "source": [
    "スッキリかけて気持ちいいね！でも頭がこんがらがってきそうだね！\n",
    "\n",
    "- このままだと本当にZEROが0, ONEが1なのか？がわかりづらい\n",
    "- 人間が理解しやすいように，これらの値をruby世界の「数」に変換する関数をつくろう"
   ]
  },
  {
   "cell_type": "code",
   "execution_count": 15,
   "metadata": {
    "collapsed": false
   },
   "outputs": [
    {
     "data": {
      "text/plain": [
       ":to_integer"
      ]
     },
     "execution_count": 15,
     "metadata": {},
     "output_type": "execute_result"
    }
   ],
   "source": [
    "# ZERO/ONE/..を0/1/..に変換する\n",
    "def to_integer(proc)\n",
    "  proc[-> x { x+1}][0]\n",
    "end"
   ]
  },
  {
   "cell_type": "code",
   "execution_count": 16,
   "metadata": {
    "collapsed": false
   },
   "outputs": [
    {
     "name": "stdout",
     "output_type": "stream",
     "text": [
      "0\n",
      "1\n",
      "2\n"
     ]
    }
   ],
   "source": [
    "puts to_integer(ZERO)\n",
    "puts to_integer(ONE)\n",
    "puts to_integer(TWO)"
   ]
  },
  {
   "cell_type": "markdown",
   "metadata": {},
   "source": [
    "これで，FizzBuzzにひつような数 3, 5, 15, 100が定義できる！"
   ]
  },
  {
   "cell_type": "code",
   "execution_count": 17,
   "metadata": {
    "collapsed": false
   },
   "outputs": [
    {
     "data": {
      "text/plain": [
       "#<Proc:0x007fc79c053f00@<main>:3 (lambda)>"
      ]
     },
     "execution_count": 17,
     "metadata": {},
     "output_type": "execute_result"
    }
   ],
   "source": [
    "THREE = -> p { -> x {p[p[p[x]]]}}\n",
    "FIVE = -> p{ -> x {p[p[p[p[p[x]]]]]}}\n",
    "FIFTEEN = -> p{ -> x {p[p[p[p[p[p[p[p[p[p[p[p[p[p[p[x]]]]]]]]]]]]]]]}}\n",
    "HUNDRED = -> p{ -> x {p[p[p[p[p[p[p[p[p[p[p[p[p[p[p[p[p[p[p[p[p[p[p[p[p[p[p[p[p[p[p[p[p[p[p[p[p[p[p[p[p[p[p[p[p[p[p[p[p[p[p[p[p[p[p[p[p[p[p[p[p[p[p[p[p[p[p[p[p[p[p[p[p[p[p[p[p[p[p[p[p[p[p[p[p[p[p[p[p[p[p[p[p[p[p[p[p[p[p[p[x]]]]]]]]]]]]]]]]]]]]]]]]]]]]]]]]]]]]]]]]]]]]]]]]]]]]]]]]]]]]]]]]]]]]]]]]]]]]]]]]]]]]]]]]]]]]]]]]]]]]}}"
   ]
  },
  {
   "cell_type": "code",
   "execution_count": 18,
   "metadata": {
    "collapsed": false
   },
   "outputs": [
    {
     "name": "stdout",
     "output_type": "stream",
     "text": [
      "3\n",
      "5\n",
      "15\n",
      "100\n"
     ]
    }
   ],
   "source": [
    "puts to_integer(THREE)\n",
    "puts to_integer(FIVE)\n",
    "puts to_integer(FIFTEEN)\n",
    "puts to_integer(HUNDRED)"
   ]
  },
  {
   "cell_type": "markdown",
   "metadata": {},
   "source": [
    "以上を用いてFizzBuzzはこうなります"
   ]
  },
  {
   "cell_type": "code",
   "execution_count": 19,
   "metadata": {
    "collapsed": false
   },
   "outputs": [
    {
     "ename": "ArgumentError",
     "evalue": "bad value for range",
     "output_type": "error",
     "traceback": [
      "\u001b[31mArgumentError\u001b[0m: bad value for range",
      "\u001b[37m<main>:1:in `<main>'\u001b[0m",
      "\u001b[37m/Users/masa/.anyenv/envs/rbenv/versions/2.2.2/lib/ruby/gems/2.2.0/gems/iruby-0.2.7/lib/iruby/backend.rb:44:in `eval'\u001b[0m",
      "\u001b[37m/Users/masa/.anyenv/envs/rbenv/versions/2.2.2/lib/ruby/gems/2.2.0/gems/iruby-0.2.7/lib/iruby/backend.rb:44:in `eval'\u001b[0m",
      "\u001b[37m/Users/masa/.anyenv/envs/rbenv/versions/2.2.2/lib/ruby/gems/2.2.0/gems/iruby-0.2.7/lib/iruby/backend.rb:12:in `eval'\u001b[0m",
      "\u001b[37m/Users/masa/.anyenv/envs/rbenv/versions/2.2.2/lib/ruby/gems/2.2.0/gems/iruby-0.2.7/lib/iruby/kernel.rb:87:in `execute_request'\u001b[0m",
      "\u001b[37m/Users/masa/.anyenv/envs/rbenv/versions/2.2.2/lib/ruby/gems/2.2.0/gems/iruby-0.2.7/lib/iruby/kernel.rb:47:in `dispatch'\u001b[0m",
      "\u001b[37m/Users/masa/.anyenv/envs/rbenv/versions/2.2.2/lib/ruby/gems/2.2.0/gems/iruby-0.2.7/lib/iruby/kernel.rb:37:in `run'\u001b[0m",
      "\u001b[37m/Users/masa/.anyenv/envs/rbenv/versions/2.2.2/lib/ruby/gems/2.2.0/gems/iruby-0.2.7/lib/iruby/command.rb:70:in `run_kernel'\u001b[0m",
      "\u001b[37m/Users/masa/.anyenv/envs/rbenv/versions/2.2.2/lib/ruby/gems/2.2.0/gems/iruby-0.2.7/lib/iruby/command.rb:34:in `run'\u001b[0m",
      "\u001b[37m/Users/masa/.anyenv/envs/rbenv/versions/2.2.2/lib/ruby/gems/2.2.0/gems/iruby-0.2.7/bin/iruby:5:in `<top (required)>'\u001b[0m",
      "\u001b[37m/Users/masa/.anyenv/envs/rbenv/versions/2.2.2/bin/iruby:23:in `load'\u001b[0m",
      "\u001b[37m/Users/masa/.anyenv/envs/rbenv/versions/2.2.2/bin/iruby:23:in `<main>'\u001b[0m"
     ]
    }
   ],
   "source": [
    "#  数をprocで表現\n",
    "(ONE..HUNDRED).map do |n|\n",
    "  if (n % FIFTEEN).zero?\n",
    "    'FizzBuzz'\n",
    "  elsif (n % THREE).zero?\n",
    "    'Fizz'\n",
    "  elsif (n % FIVE).zero?\n",
    "    'Buzz'\n",
    "  else\n",
    "    n\n",
    "  end\n",
    "end"
   ]
  },
  {
   "cell_type": "markdown",
   "metadata": {},
   "source": [
    "ただし，まだ独自の「数」に対して % とか .. とかを定義していないので，上のプログラムは動きません"
   ]
  },
  {
   "cell_type": "markdown",
   "metadata": {},
   "source": [
    "### 6.1.4 ブール値"
   ]
  },
  {
   "cell_type": "markdown",
   "metadata": {},
   "source": [
    "- ブール値ってなんだ？\n",
    "    - True/False\n",
    "    - ２つの選択肢から一つを選ぶもの\n",
    "        - if bool then true_statement else false_statement\n",
    "    - 最初から true_statement, false_statement のどちらかを返すもの，と定義できる"
   ]
  },
  {
   "cell_type": "code",
   "execution_count": 20,
   "metadata": {
    "collapsed": false
   },
   "outputs": [
    {
     "data": {
      "text/plain": [
       ":false"
      ]
     },
     "execution_count": 20,
     "metadata": {},
     "output_type": "execute_result"
    }
   ],
   "source": [
    "# rubyふうに\n",
    "def true(x,y)\n",
    "  x\n",
    "end\n",
    "\n",
    "def false(x,y)\n",
    "  y\n",
    "end"
   ]
  },
  {
   "cell_type": "code",
   "execution_count": 21,
   "metadata": {
    "collapsed": false
   },
   "outputs": [
    {
     "data": {
      "text/plain": [
       "#<Proc:0x007fc79d1d8dc0@<main>:3 (lambda)>"
      ]
     },
     "execution_count": 21,
     "metadata": {},
     "output_type": "execute_result"
    }
   ],
   "source": [
    "# procふうに\n",
    "# TRUE/FALSEは予約語っぽいorz\n",
    "MY_TRUE = -> x { -> y { x }}\n",
    "MY_FALSE = -> x { -> y { y }}"
   ]
  },
  {
   "cell_type": "markdown",
   "metadata": {},
   "source": [
    "変換も簡単"
   ]
  },
  {
   "cell_type": "code",
   "execution_count": 22,
   "metadata": {
    "collapsed": false
   },
   "outputs": [
    {
     "data": {
      "text/plain": [
       ":to_boolean"
      ]
     },
     "execution_count": 22,
     "metadata": {},
     "output_type": "execute_result"
    }
   ],
   "source": [
    "def to_boolean(proc)\n",
    "  proc[true][false]\n",
    "end"
   ]
  },
  {
   "cell_type": "code",
   "execution_count": 23,
   "metadata": {
    "collapsed": false
   },
   "outputs": [
    {
     "name": "stdout",
     "output_type": "stream",
     "text": [
      "true\n",
      "false\n"
     ]
    }
   ],
   "source": [
    "puts to_boolean(MY_TRUE)\n",
    "puts to_boolean(MY_FALSE)"
   ]
  },
  {
   "cell_type": "markdown",
   "metadata": {},
   "source": [
    "合せて制御構造 if/elsif/else も定義しよう"
   ]
  },
  {
   "cell_type": "code",
   "execution_count": 24,
   "metadata": {
    "collapsed": false
   },
   "outputs": [
    {
     "data": {
      "text/plain": [
       ":if_"
      ]
     },
     "execution_count": 24,
     "metadata": {},
     "output_type": "execute_result"
    }
   ],
   "source": [
    "# ruby ふうに\n",
    "def if_(proc, x, y)\n",
    "  proc[x][y]\n",
    "end"
   ]
  },
  {
   "cell_type": "code",
   "execution_count": 25,
   "metadata": {
    "collapsed": false
   },
   "outputs": [
    {
     "data": {
      "text/plain": [
       "#<Proc:0x007fc79d0f1d08@<main>:1 (lambda)>"
      ]
     },
     "execution_count": 25,
     "metadata": {},
     "output_type": "execute_result"
    }
   ],
   "source": [
    "# procふうに\n",
    "IF = -> b { -> x { -> y { b[x][y]}}}"
   ]
  },
  {
   "cell_type": "markdown",
   "metadata": {},
   "source": [
    "ここで procの変換ルールを思い出そう\n",
    "\n",
    "`-> x { p[x]} ` == `p` だった\n",
    "\n",
    "これをIFに適用\n",
    "\n",
    "```\n",
    "-> b {-> x {-> y { b[x][y]}}}\n",
    "-> b {-> x {        b[x]      }}\n",
    "-> b {              b          }}\n",
    "```\n",
    "\n",
    "そもそも true/falseを「２つの選択肢から一つを選ぶもの」として定義したので，ごく当たり前の話ではあるね"
   ]
  },
  {
   "cell_type": "code",
   "execution_count": 26,
   "metadata": {
    "collapsed": false
   },
   "outputs": [
    {
     "ename": "ArgumentError",
     "evalue": "bad value for range",
     "output_type": "error",
     "traceback": [
      "\u001b[31mArgumentError\u001b[0m: bad value for range",
      "\u001b[37m<main>:1:in `<main>'\u001b[0m",
      "\u001b[37m/Users/masa/.anyenv/envs/rbenv/versions/2.2.2/lib/ruby/gems/2.2.0/gems/iruby-0.2.7/lib/iruby/backend.rb:44:in `eval'\u001b[0m",
      "\u001b[37m/Users/masa/.anyenv/envs/rbenv/versions/2.2.2/lib/ruby/gems/2.2.0/gems/iruby-0.2.7/lib/iruby/backend.rb:44:in `eval'\u001b[0m",
      "\u001b[37m/Users/masa/.anyenv/envs/rbenv/versions/2.2.2/lib/ruby/gems/2.2.0/gems/iruby-0.2.7/lib/iruby/backend.rb:12:in `eval'\u001b[0m",
      "\u001b[37m/Users/masa/.anyenv/envs/rbenv/versions/2.2.2/lib/ruby/gems/2.2.0/gems/iruby-0.2.7/lib/iruby/kernel.rb:87:in `execute_request'\u001b[0m",
      "\u001b[37m/Users/masa/.anyenv/envs/rbenv/versions/2.2.2/lib/ruby/gems/2.2.0/gems/iruby-0.2.7/lib/iruby/kernel.rb:47:in `dispatch'\u001b[0m",
      "\u001b[37m/Users/masa/.anyenv/envs/rbenv/versions/2.2.2/lib/ruby/gems/2.2.0/gems/iruby-0.2.7/lib/iruby/kernel.rb:37:in `run'\u001b[0m",
      "\u001b[37m/Users/masa/.anyenv/envs/rbenv/versions/2.2.2/lib/ruby/gems/2.2.0/gems/iruby-0.2.7/lib/iruby/command.rb:70:in `run_kernel'\u001b[0m",
      "\u001b[37m/Users/masa/.anyenv/envs/rbenv/versions/2.2.2/lib/ruby/gems/2.2.0/gems/iruby-0.2.7/lib/iruby/command.rb:34:in `run'\u001b[0m",
      "\u001b[37m/Users/masa/.anyenv/envs/rbenv/versions/2.2.2/lib/ruby/gems/2.2.0/gems/iruby-0.2.7/bin/iruby:5:in `<top (required)>'\u001b[0m",
      "\u001b[37m/Users/masa/.anyenv/envs/rbenv/versions/2.2.2/bin/iruby:23:in `load'\u001b[0m",
      "\u001b[37m/Users/masa/.anyenv/envs/rbenv/versions/2.2.2/bin/iruby:23:in `<main>'\u001b[0m"
     ]
    }
   ],
   "source": [
    "# 数，bool値をprocで\n",
    "(ONE..HUNDRED).map do |n|\n",
    "  IF[(n % FIFTEEN).zero?][\n",
    "    'FizzBuzz'\n",
    "  ][IF[(n % THREE).zero?][\n",
    "    'Fizz'\n",
    "  ][IF[(n % FIVE).zero?][\n",
    "    'Buzz'\n",
    "  ][\n",
    "    n\n",
    "  ]]]\n",
    "end"
   ]
  },
  {
   "cell_type": "markdown",
   "metadata": {},
   "source": [
    "### 6.1.5 述語\n",
    "\n",
    "- FizzBuzzをつくるためには，余りがゼロかの判定が必要（.zero?）\n",
    "- 我々は「数」を「アクションを行う回数」と定義した\n",
    "- 「常にfalse返すproc」をtrueに何度も適用する，とかんがえる"
   ]
  },
  {
   "cell_type": "code",
   "execution_count": 27,
   "metadata": {
    "collapsed": false
   },
   "outputs": [
    {
     "data": {
      "text/plain": [
       ":zreo?"
      ]
     },
     "execution_count": 27,
     "metadata": {},
     "output_type": "execute_result"
    }
   ],
   "source": [
    "# rubyふう\n",
    "def zreo?(proc)\n",
    "  proc[->x{FALSE}][TRUE]\n",
    "end"
   ]
  },
  {
   "cell_type": "code",
   "execution_count": 28,
   "metadata": {
    "collapsed": false
   },
   "outputs": [
    {
     "data": {
      "text/plain": [
       "#<Proc:0x007fc79c942a80@<main>:1 (lambda)>"
      ]
     },
     "execution_count": 28,
     "metadata": {},
     "output_type": "execute_result"
    }
   ],
   "source": [
    "# procふう\n",
    "IS_ZERO = -> p { p[ -> x {MY_FALSE}][MY_TRUE]}"
   ]
  },
  {
   "cell_type": "code",
   "execution_count": 29,
   "metadata": {
    "collapsed": false
   },
   "outputs": [
    {
     "name": "stdout",
     "output_type": "stream",
     "text": [
      "true\n",
      "false\n"
     ]
    }
   ],
   "source": [
    "puts to_boolean( IS_ZERO[ZERO])\n",
    "puts to_boolean( IS_ZERO[ONE])"
   ]
  },
  {
   "cell_type": "code",
   "execution_count": 30,
   "metadata": {
    "collapsed": false
   },
   "outputs": [
    {
     "ename": "ArgumentError",
     "evalue": "bad value for range",
     "output_type": "error",
     "traceback": [
      "\u001b[31mArgumentError\u001b[0m: bad value for range",
      "\u001b[37m<main>:1:in `<main>'\u001b[0m",
      "\u001b[37m/Users/masa/.anyenv/envs/rbenv/versions/2.2.2/lib/ruby/gems/2.2.0/gems/iruby-0.2.7/lib/iruby/backend.rb:44:in `eval'\u001b[0m",
      "\u001b[37m/Users/masa/.anyenv/envs/rbenv/versions/2.2.2/lib/ruby/gems/2.2.0/gems/iruby-0.2.7/lib/iruby/backend.rb:44:in `eval'\u001b[0m",
      "\u001b[37m/Users/masa/.anyenv/envs/rbenv/versions/2.2.2/lib/ruby/gems/2.2.0/gems/iruby-0.2.7/lib/iruby/backend.rb:12:in `eval'\u001b[0m",
      "\u001b[37m/Users/masa/.anyenv/envs/rbenv/versions/2.2.2/lib/ruby/gems/2.2.0/gems/iruby-0.2.7/lib/iruby/kernel.rb:87:in `execute_request'\u001b[0m",
      "\u001b[37m/Users/masa/.anyenv/envs/rbenv/versions/2.2.2/lib/ruby/gems/2.2.0/gems/iruby-0.2.7/lib/iruby/kernel.rb:47:in `dispatch'\u001b[0m",
      "\u001b[37m/Users/masa/.anyenv/envs/rbenv/versions/2.2.2/lib/ruby/gems/2.2.0/gems/iruby-0.2.7/lib/iruby/kernel.rb:37:in `run'\u001b[0m",
      "\u001b[37m/Users/masa/.anyenv/envs/rbenv/versions/2.2.2/lib/ruby/gems/2.2.0/gems/iruby-0.2.7/lib/iruby/command.rb:70:in `run_kernel'\u001b[0m",
      "\u001b[37m/Users/masa/.anyenv/envs/rbenv/versions/2.2.2/lib/ruby/gems/2.2.0/gems/iruby-0.2.7/lib/iruby/command.rb:34:in `run'\u001b[0m",
      "\u001b[37m/Users/masa/.anyenv/envs/rbenv/versions/2.2.2/lib/ruby/gems/2.2.0/gems/iruby-0.2.7/bin/iruby:5:in `<top (required)>'\u001b[0m",
      "\u001b[37m/Users/masa/.anyenv/envs/rbenv/versions/2.2.2/bin/iruby:23:in `load'\u001b[0m",
      "\u001b[37m/Users/masa/.anyenv/envs/rbenv/versions/2.2.2/bin/iruby:23:in `<main>'\u001b[0m"
     ]
    }
   ],
   "source": [
    "# 数,bool値,述語をprocで\n",
    "(ONE..HUNDRED).map do |n|\n",
    "  IF[IS_ZERO[(n % FIFTEEN)]][\n",
    "    'FizzBuzz'\n",
    "  ][IF[IS_ZERO[(n % THREE)]][\n",
    "    'Fizz'\n",
    "  ][IF[IS_ZERO[(n % FIVE)]][\n",
    "    'Buzz'\n",
    "  ][\n",
    "    n\n",
    "  ]]]\n",
    "end"
   ]
  },
  {
   "cell_type": "markdown",
   "metadata": {},
   "source": [
    "### 6.1.6 ペア\n",
    "- プリミティブとして数値，ブール値を定義した\n",
    "- データ構造が欲しくなる\n",
    "- ペアを定義する\n",
    "\n",
    "- 要件\n",
    "    - 2つの要素をもつ\n",
    "    - left で1つ目の要素を取得\n",
    "    - right で2つ目の要素を取得"
   ]
  },
  {
   "cell_type": "code",
   "execution_count": 31,
   "metadata": {
    "collapsed": false
   },
   "outputs": [
    {
     "data": {
      "text/plain": [
       "#<Proc:0x007fc79c8e8f80@<main>:3 (lambda)>"
      ]
     },
     "execution_count": 31,
     "metadata": {},
     "output_type": "execute_result"
    }
   ],
   "source": [
    "# procふうに\n",
    "PAIR = -> x { -> y { -> f { f[x][y] }}}\n",
    "LEFT = -> p { p[ -> x { -> y {x}}]} \n",
    "RIGHT = -> p { p[-> x { -> y {y}}]} "
   ]
  },
  {
   "cell_type": "markdown",
   "metadata": {},
   "source": [
    "パッと見難しいけど，落ち着いて考えればやってることは簡単\n",
    "\n",
    "- pair : procを受け取り，「予め受け取っていた二数x,y」を適用するproc\n",
    "- left: procを受け取り，「二数x,yを受け取りxを返すproc」を適用するproc\n",
    "- right: procを受け取り，「二数x,yを受け取りyを返すproc」を適用するproc"
   ]
  },
  {
   "cell_type": "markdown",
   "metadata": {
    "collapsed": true
   },
   "source": [
    "### 6.1.7 数値演算\n",
    "\n",
    "- 各種データ型がそろってきた\n",
    "- 演算を定義する"
   ]
  },
  {
   "cell_type": "markdown",
   "metadata": {},
   "source": [
    "- まずはインクリメント\n",
    "- 数 = p,x を受け取ってxにpを指定回数適用するもの\n",
    "- インクリメント: nに更にpを適用する"
   ]
  },
  {
   "cell_type": "code",
   "execution_count": 32,
   "metadata": {
    "collapsed": false
   },
   "outputs": [
    {
     "data": {
      "text/plain": [
       "#<Proc:0x007fc79c8ce5b8@<main>:0 (lambda)>"
      ]
     },
     "execution_count": 32,
     "metadata": {},
     "output_type": "execute_result"
    }
   ],
   "source": [
    "INCREMENT = -> n { -> p { -> x {p[n[p][x]]}}}"
   ]
  },
  {
   "cell_type": "markdown",
   "metadata": {},
   "source": [
    "- デクリメント\n",
    "- n回適用された時，一回戻ったものを返す\n",
    "    - むずかしい\n",
    "- pairを利用，slideという概念の導入\n"
   ]
  },
  {
   "cell_type": "code",
   "execution_count": 33,
   "metadata": {
    "collapsed": false
   },
   "outputs": [
    {
     "name": "stdout",
     "output_type": "stream",
     "text": [
      "[4, 5]\n",
      "[8, 9]\n",
      "[4, 5]\n",
      "[4, 5]\n"
     ]
    }
   ],
   "source": [
    "def slide(pair)\n",
    "  [pair.last, pair.last+1]\n",
    "end\n",
    "\n",
    "# 一つずつずれたものになる\n",
    "puts slide([3,4])\n",
    "puts slide([7,8])\n",
    "\n",
    "# ぶっちゃけ重要なの後ろの数だけ\n",
    "puts slide([0, 4])\n",
    "puts slide([10000, 4])"
   ]
  },
  {
   "cell_type": "markdown",
   "metadata": {},
   "source": [
    "- 数n: xにpをn回適用するもの\n",
    "- [0,0]にslideをn回適用する -> [n-1, n]\n",
    "- left取ればdecrementできてる！"
   ]
  },
  {
   "cell_type": "code",
   "execution_count": 34,
   "metadata": {
    "collapsed": false
   },
   "outputs": [
    {
     "data": {
      "text/plain": [
       "#<Proc:0x007fc79d190cc8@<main>:1 (lambda)>"
      ]
     },
     "execution_count": 34,
     "metadata": {},
     "output_type": "execute_result"
    }
   ],
   "source": [
    "SLIDE = -> p {PAIR[RIGHT[p]][INCREMENT[RIGHT[p]]]}\n",
    "DECREMENT = -> n { LEFT[n[SLIDE][PAIR[ZERO][ZERO]]]}"
   ]
  },
  {
   "cell_type": "code",
   "execution_count": 35,
   "metadata": {
    "collapsed": false
   },
   "outputs": [
    {
     "name": "stdout",
     "output_type": "stream",
     "text": [
      "0\n",
      "4\n",
      "99\n"
     ]
    }
   ],
   "source": [
    "puts to_integer(DECREMENT[ONE])\n",
    "puts to_integer(DECREMENT[FIVE])\n",
    "puts to_integer(DECREMENT[HUNDRED])"
   ]
  },
  {
   "cell_type": "markdown",
   "metadata": {},
   "source": [
    "- 以上を用いれば四則演算が定義できるよ\n",
    "- カリー化してることに注目するとわかりやすいかも"
   ]
  },
  {
   "cell_type": "code",
   "execution_count": 36,
   "metadata": {
    "collapsed": false
   },
   "outputs": [
    {
     "data": {
      "text/plain": [
       "#<Proc:0x007fc79d161ef0@<main>:3 (lambda)>"
      ]
     },
     "execution_count": 36,
     "metadata": {},
     "output_type": "execute_result"
    }
   ],
   "source": [
    "ADD = -> m { -> n { n[INCREMENT][m] }}\n",
    "SUBTRACT = -> m { -> n {n[DECREMENT][m]}}\n",
    "MULTIPLY = -> m { -> n {n[ADD[m]][ZERO]}}\n",
    "POWER = -> m { -> n { n[MULTIPLY[m]][ONE]}}"
   ]
  },
  {
   "cell_type": "code",
   "execution_count": 37,
   "metadata": {
    "collapsed": false
   },
   "outputs": [
    {
     "data": {
      "text/plain": [
       "#<Proc:0x007fc79d84ed08@<main>:10 (lambda)>"
      ]
     },
     "execution_count": 37,
     "metadata": {},
     "output_type": "execute_result"
    }
   ],
   "source": [
    "# こう考えるとわかりやすいかも\n",
    "\n",
    "# 「5を足す」というproc\n",
    "ADD_FIVE = FIVE[INCREMENT]\n",
    "\n",
    "# nを受け「nを足す」というprocを返すproc\n",
    "ADD_N = -> n {n[INCREMENT]}\n",
    "\n",
    "#  mにnを受け「nを足す」というprocを返すprocを適用\n",
    "\n",
    "ADD_N_TO_M = -> m { -> n {ADD_N[n][m]}}"
   ]
  },
  {
   "cell_type": "code",
   "execution_count": 38,
   "metadata": {
    "collapsed": false
   },
   "outputs": [
    {
     "name": "stdout",
     "output_type": "stream",
     "text": [
      "7\n",
      "10\n"
     ]
    }
   ],
   "source": [
    "# +α\n",
    "\n",
    "# add，これでよくね？\n",
    "MYADD = -> m {-> n { -> p { -> x {m[p][n[p][x]]}}}}\n",
    "puts to_integer(MYADD[TWO][FIVE])\n",
    "\n",
    "# mul,　これでよくね？\n",
    "MYMUL = -> m {-> n { -> p {m[n[p]]}}}\n",
    "puts to_integer(MYMUL[TWO][FIVE])"
   ]
  },
  {
   "cell_type": "markdown",
   "metadata": {},
   "source": [
    "- チラ裏memo\n",
    "\n",
    "- Haskell風に書くとしんぷるでしあわせ\n",
    "- decrementもねー，f^-1を適用する，って考え方のほうががいいよねー\n",
    "    - `decrement n p = inverse p $ n p` みたいなー\n",
    "    - fが全単射だったら，の話になっちゃうけどさー\n",
    "    - いや，全射である必要はないか？"
   ]
  },
  {
   "cell_type": "markdown",
   "metadata": {},
   "source": [
    "- あとは剰余（%）がほしい"
   ]
  },
  {
   "cell_type": "code",
   "execution_count": 39,
   "metadata": {
    "collapsed": false
   },
   "outputs": [
    {
     "data": {
      "text/plain": [
       ":my_mod"
      ]
     },
     "execution_count": 39,
     "metadata": {},
     "output_type": "execute_result"
    }
   ],
   "source": [
    "def my_mod(m,n)\n",
    "  if n <= m\n",
    "    mod(m-n, n)\n",
    "  else\n",
    "    m\n",
    "  end\n",
    "end"
   ]
  },
  {
   "cell_type": "markdown",
   "metadata": {},
   "source": [
    "- 割る数nを割られる数mから引きまくって，mが以下になったらreturnする\n",
    "- なんてことはない\n",
    "- 比較演算子(<=)を定義できれば行けそうだ!\n",
    "\n",
    "```\n",
    "m <= n\n",
    "m - n <= 0\n",
    "```\n",
    "\n",
    "- 数m-nと0の比較ができれば，<=を定義できたことになる\n",
    "- 我々の「数」においては，ゼロ以下の数は存在しない\n",
    "    - decrement の定義より\n",
    "- すなわち「aがゼロ以下」のとき，「a==0」となる\n",
    "- すでにIS_ZEROは定義済みなので，<=が定義できそうだ"
   ]
  },
  {
   "cell_type": "code",
   "execution_count": 40,
   "metadata": {
    "collapsed": false
   },
   "outputs": [
    {
     "data": {
      "text/plain": [
       "#<Proc:0x007fc79c826840@<main>:1 (lambda)>"
      ]
     },
     "execution_count": 40,
     "metadata": {},
     "output_type": "execute_result"
    }
   ],
   "source": [
    "# m <= n\n",
    "IS_LESS_OR_EQUAL = -> m {-> n { IS_ZERO[SUBTRACT[m][n]]}}"
   ]
  },
  {
   "cell_type": "code",
   "execution_count": 41,
   "metadata": {
    "collapsed": false
   },
   "outputs": [
    {
     "name": "stdout",
     "output_type": "stream",
     "text": [
      "false\n",
      "true\n"
     ]
    }
   ],
   "source": [
    "puts to_boolean(IS_LESS_OR_EQUAL[FIVE][ONE])\n",
    "puts to_boolean(IS_LESS_OR_EQUAL[ONE][FIVE])"
   ]
  },
  {
   "cell_type": "markdown",
   "metadata": {},
   "source": [
    "- IS_LESS_OR_EQUALを用いてMODを定義しよう"
   ]
  },
  {
   "cell_type": "code",
   "execution_count": 42,
   "metadata": {
    "collapsed": false
   },
   "outputs": [
    {
     "data": {
      "text/plain": [
       "#<Proc:0x007fc79d102130@<main>:0 (lambda)>"
      ]
     },
     "execution_count": 42,
     "metadata": {},
     "output_type": "execute_result"
    }
   ],
   "source": [
    "MOD = -> m { -> n {\n",
    "    IF[IS_LESS_OR_EQUAL[n][m]][\n",
    "      MOD[SUBTRACT[m][n]][n]\n",
    "      ][\n",
    "      m\n",
    "    ]\n",
    "}}"
   ]
  },
  {
   "cell_type": "markdown",
   "metadata": {},
   "source": [
    "- ただしこのままでは動かない\n",
    "- rubyのifは遅延評価だが．IFは正格評価のため\n",
    "    - cond評価の前にthen/else節を評価する\n",
    "    - 無限にthen節が呼ばれる\n",
    "    - `MOD[SUBTRACT[ZERO][n]][n]` の繰り返しである\n",
    "- then 節を遅延させたい\n",
    "    - procでくるめばok\n",
    "    - 等価性を思い出す\n",
    "    - `p` = `->x {p[x]}`\n",
    "    "
   ]
  },
  {
   "cell_type": "code",
   "execution_count": 43,
   "metadata": {
    "collapsed": false
   },
   "outputs": [
    {
     "data": {
      "text/plain": [
       "#<Proc:0x007fc79d084988@<main>:0 (lambda)>"
      ]
     },
     "execution_count": 43,
     "metadata": {},
     "output_type": "execute_result"
    }
   ],
   "source": [
    "MYMOD = -> m { -> n {\n",
    "    IF[IS_LESS_OR_EQUAL[n][m]][\n",
    "      -> x {\n",
    "        MYMOD[SUBTRACT[m][n]][n][x]\n",
    "        }\n",
    "      ][\n",
    "        m\n",
    "        ]\n",
    "}}"
   ]
  },
  {
   "cell_type": "code",
   "execution_count": 44,
   "metadata": {
    "collapsed": false
   },
   "outputs": [
    {
     "name": "stdout",
     "output_type": "stream",
     "text": [
      "false\n",
      "1\n"
     ]
    }
   ],
   "source": [
    "puts to_boolean(IS_LESS_OR_EQUAL[FIVE][TWO])\n",
    "puts to_integer(MYMOD[THREE][TWO])"
   ]
  },
  {
   "cell_type": "markdown",
   "metadata": {},
   "source": [
    "- このコードはMYMODを変数として再帰のために利用している\n",
    "- 代入の機能をつかっているではないか！\n",
    "- 再帰関数定義のためのprocがひつよう\n",
    "- 通称Yコンビネータ\n",
    "     - よーするに：fを無限に繰り返します\n",
    "- 手を動かして考えたほうがわかると思う"
   ]
  },
  {
   "cell_type": "code",
   "execution_count": 45,
   "metadata": {
    "collapsed": false
   },
   "outputs": [
    {
     "data": {
      "text/plain": [
       "#<Proc:0x007fc79d035e28@<main>:0 (lambda)>"
      ]
     },
     "execution_count": 45,
     "metadata": {},
     "output_type": "execute_result"
    }
   ],
   "source": [
    "Y = -> f { -> x { f[x[x]] }[-> x { f[x[x]] }] }"
   ]
  },
  {
   "cell_type": "markdown",
   "metadata": {},
   "source": [
    "- これも無限評価となるので遅延verにする必要がある\n",
    "- pointは `x[x]`による再帰呼び出し"
   ]
  },
  {
   "cell_type": "code",
   "execution_count": 46,
   "metadata": {
    "collapsed": false
   },
   "outputs": [
    {
     "data": {
      "text/plain": [
       "#<Proc:0x007fc79d1ebe20@<main>:0 (lambda)>"
      ]
     },
     "execution_count": 46,
     "metadata": {},
     "output_type": "execute_result"
    }
   ],
   "source": [
    "Z = -> f { -> x { f[-> y { x[x][y] }] }[-> x { f[-> y { x[x][y] }] }] }"
   ]
  },
  {
   "cell_type": "code",
   "execution_count": 47,
   "metadata": {
    "collapsed": false
   },
   "outputs": [
    {
     "data": {
      "text/plain": [
       "#<Proc:0x007fc79d1d9590@<main>:1 (lambda)>"
      ]
     },
     "execution_count": 47,
     "metadata": {},
     "output_type": "execute_result"
    }
   ],
   "source": [
    "ZMOD = \n",
    "  Z[-> f {-> m { -> n {\n",
    "    IF[IS_LESS_OR_EQUAL[n][m]][\n",
    "      -> x {\n",
    "        f[SUBTRACT[m][n]][n][x]\n",
    "        }\n",
    "      ][\n",
    "        m\n",
    "      ]\n",
    "}}}]"
   ]
  },
  {
   "cell_type": "code",
   "execution_count": 48,
   "metadata": {
    "collapsed": false
   },
   "outputs": [
    {
     "name": "stdout",
     "output_type": "stream",
     "text": [
      "1\n"
     ]
    }
   ],
   "source": [
    "puts to_integer(ZMOD[THREE][TWO])"
   ]
  },
  {
   "cell_type": "code",
   "execution_count": 49,
   "metadata": {
    "collapsed": false
   },
   "outputs": [
    {
     "ename": "SyntaxError",
     "evalue": "<main>:11: syntax error, unexpected keyword_end, expecting ']'",
     "output_type": "error",
     "traceback": [
      "\u001b[31mSyntaxError\u001b[0m: <main>:11: syntax error, unexpected keyword_end, expecting ']'",
      "\u001b[37m/Users/masa/.anyenv/envs/rbenv/versions/2.2.2/lib/ruby/gems/2.2.0/gems/iruby-0.2.7/lib/iruby/backend.rb:44:in `eval'\u001b[0m",
      "\u001b[37m/Users/masa/.anyenv/envs/rbenv/versions/2.2.2/lib/ruby/gems/2.2.0/gems/iruby-0.2.7/lib/iruby/backend.rb:44:in `eval'\u001b[0m",
      "\u001b[37m/Users/masa/.anyenv/envs/rbenv/versions/2.2.2/lib/ruby/gems/2.2.0/gems/iruby-0.2.7/lib/iruby/backend.rb:12:in `eval'\u001b[0m",
      "\u001b[37m/Users/masa/.anyenv/envs/rbenv/versions/2.2.2/lib/ruby/gems/2.2.0/gems/iruby-0.2.7/lib/iruby/kernel.rb:87:in `execute_request'\u001b[0m",
      "\u001b[37m/Users/masa/.anyenv/envs/rbenv/versions/2.2.2/lib/ruby/gems/2.2.0/gems/iruby-0.2.7/lib/iruby/kernel.rb:47:in `dispatch'\u001b[0m",
      "\u001b[37m/Users/masa/.anyenv/envs/rbenv/versions/2.2.2/lib/ruby/gems/2.2.0/gems/iruby-0.2.7/lib/iruby/kernel.rb:37:in `run'\u001b[0m",
      "\u001b[37m/Users/masa/.anyenv/envs/rbenv/versions/2.2.2/lib/ruby/gems/2.2.0/gems/iruby-0.2.7/lib/iruby/command.rb:70:in `run_kernel'\u001b[0m",
      "\u001b[37m/Users/masa/.anyenv/envs/rbenv/versions/2.2.2/lib/ruby/gems/2.2.0/gems/iruby-0.2.7/lib/iruby/command.rb:34:in `run'\u001b[0m",
      "\u001b[37m/Users/masa/.anyenv/envs/rbenv/versions/2.2.2/lib/ruby/gems/2.2.0/gems/iruby-0.2.7/bin/iruby:5:in `<top (required)>'\u001b[0m",
      "\u001b[37m/Users/masa/.anyenv/envs/rbenv/versions/2.2.2/bin/iruby:23:in `load'\u001b[0m",
      "\u001b[37m/Users/masa/.anyenv/envs/rbenv/versions/2.2.2/bin/iruby:23:in `<main>'\u001b[0m"
     ]
    }
   ],
   "source": [
    "# 数,bool値,述語,%をprocで\n",
    "(ONE..HUNDRED).map do |n|\n",
    "  IF[IS_ZERO[ZMOD[n][FIFTEEN]]][\n",
    "    'FizzBuzz'\n",
    "  ][IF[IS_ZERO[ZMOD[n][THREE]]][\n",
    "    'Fizz'\n",
    "  ][IF[IS_ZERO[ZMOD[n][FIVE]][\n",
    "    'Buzz'\n",
    "  ][\n",
    "    n.to_s\n",
    "  ]]]\n",
    "end"
   ]
  },
  {
   "cell_type": "markdown",
   "metadata": {},
   "source": [
    "- チラ裏memo\n",
    "- Zコンビネータに渡すprocにfが増えるのなんじゃい?\n",
    "- おそらく自分自身を指すものだろう\n",
    "- コンビネータに渡された関数は f[f[f...]] みたいになるはず\n",
    "- fは自分自身なので，内側カッコからは `m -> SUBTRACT[m][n], n->n` で自身が呼ばれるのではないか？\n",
    "- 一周目fにおいて，第一引数fはf[f[..]]となる(ややこしや\n",
    "- 遅延評価なので渡されさえすれば一周目ロジックはうごかせる\n",
    "- IS_LESS_OR_EQUALがtrueの時のみ，再びfの呼び出しが評価される\n",
    "    - このときm,が更新されるので，いずれIS_LESS_OR_EQUALがfalse隣，無碍に呼び出しが終わる\n",
    "- 第一引数は自身の無限呼び出しをするprocが入っており，何度呼ばれようが自身が返る．みたいなイメージだな"
   ]
  },
  {
   "cell_type": "markdown",
   "metadata": {
    "collapsed": true
   },
   "source": [
    "### 6.1.8 リスト\n",
    "\n",
    "- 詳細略\n",
    "- 雰囲気つかめれば十分\n",
    "- らしい\n",
    "\n",
    "- ようするに\n",
    "    - PAIRつかって連結リストっぽいもの作ってる\n",
    "    - ただし，IS_EMPTY対応のため．常にLEFTにTRUE/FALSEを入れたPAIRでくるむ"
   ]
  },
  {
   "cell_type": "code",
   "execution_count": 50,
   "metadata": {
    "collapsed": false
   },
   "outputs": [
    {
     "data": {
      "text/plain": [
       "#<Proc:0x007fc79d17bb98@<main>:4 (lambda)>"
      ]
     },
     "execution_count": 50,
     "metadata": {},
     "output_type": "execute_result"
    }
   ],
   "source": [
    "EMPTY = PAIR[MY_TRUE][MY_TRUE]\n",
    "UNSHIFT = -> l {-> x {PAIR[MY_FALSE][PAIR[x][l]]}}\n",
    "IS_EMPTY = LEFT\n",
    "FIRST = -> l {LEFT[RIGHT[l]]}\n",
    "REST = -> l {RIGHT[RIGHT[l]]}"
   ]
  },
  {
   "cell_type": "code",
   "execution_count": 51,
   "metadata": {
    "collapsed": false
   },
   "outputs": [
    {
     "name": "stdout",
     "output_type": "stream",
     "text": [
      "3\n",
      "2\n",
      "1\n",
      "false\n",
      "true\n"
     ]
    }
   ],
   "source": [
    "# 本と順番変えた．こっちのほうがわかりやすいと思う\n",
    "mylist =UNSHIFT[UNSHIFT[UNSHIFT[EMPTY][ONE]][TWO]][THREE]\n",
    "\n",
    "puts to_integer(FIRST[mylist])\n",
    "puts to_integer(FIRST[REST[mylist]])\n",
    "puts to_integer(FIRST[REST[REST[mylist]]])\n",
    "\n",
    "puts to_boolean(IS_EMPTY[mylist])\n",
    "puts to_boolean(IS_EMPTY[EMPTY])"
   ]
  },
  {
   "cell_type": "code",
   "execution_count": 52,
   "metadata": {
    "collapsed": false
   },
   "outputs": [
    {
     "data": {
      "text/plain": [
       ":to_array"
      ]
     },
     "execution_count": 52,
     "metadata": {},
     "output_type": "execute_result"
    }
   ],
   "source": [
    "# array表示のためのmethod\n",
    "def to_array(proc)\n",
    "    array = []\n",
    "  \n",
    "    until to_boolean(IS_EMPTY[proc])\n",
    "        array.push(FIRST[proc])\n",
    "        proc = REST[proc]\n",
    "    end\n",
    "    \n",
    "    array\n",
    "end"
   ]
  },
  {
   "cell_type": "code",
   "execution_count": 53,
   "metadata": {
    "collapsed": false
   },
   "outputs": [
    {
     "name": "stdout",
     "output_type": "stream",
     "text": [
      "[3, 2, 1]\n"
     ]
    }
   ],
   "source": [
    "puts to_array(mylist).map { |p| to_integer(p)}"
   ]
  },
  {
   "cell_type": "markdown",
   "metadata": {},
   "source": [
    "- rangeを実装しよう"
   ]
  },
  {
   "cell_type": "code",
   "execution_count": 54,
   "metadata": {
    "collapsed": false
   },
   "outputs": [
    {
     "name": "stdout",
     "output_type": "stream",
     "text": [
      "[0, 1, 2, 3, 4, 5, 6, 7, 8, 9, 10]\n"
     ]
    }
   ],
   "source": [
    "# rubyふう\n",
    "def my_range(m, n)\n",
    "  if m <= n\n",
    "    my_range(m+1,n).unshift(m)\n",
    "  else\n",
    "    []\n",
    "  end\n",
    "end\n",
    "\n",
    "puts my_range(0, 10)"
   ]
  },
  {
   "cell_type": "code",
   "execution_count": 55,
   "metadata": {
    "collapsed": false
   },
   "outputs": [
    {
     "data": {
      "text/plain": [
       "#<Proc:0x007fc79d90d820@<main>:4 (lambda)>"
      ]
     },
     "execution_count": 55,
     "metadata": {},
     "output_type": "execute_result"
    }
   ],
   "source": [
    "# procで\n",
    "\n",
    "RANGE = \n",
    "Z[->f {\n",
    "  ->m { -> n {\n",
    "    IF[IS_LESS_OR_EQUAL[m][n]][\n",
    "      ->x{UNSHIFT[f[INCREMENT[m]][n]][m][x]}\n",
    "      ][\n",
    "        EMPTY\n",
    "        ]\n",
    "    }}\n",
    "  }]"
   ]
  },
  {
   "cell_type": "code",
   "execution_count": 56,
   "metadata": {
    "collapsed": false
   },
   "outputs": [
    {
     "name": "stdout",
     "output_type": "stream",
     "text": [
      "[1, 2, 3, 4, 5]\n"
     ]
    }
   ],
   "source": [
    "my_array = RANGE[ONE][FIVE]\n",
    "puts to_array(my_array).map { |p| to_integer(p)}"
   ]
  },
  {
   "cell_type": "code",
   "execution_count": 57,
   "metadata": {
    "collapsed": false
   },
   "outputs": [
    {
     "ename": "SyntaxError",
     "evalue": "<main>:2: syntax error, unexpected ']', expecting end-of-input\nRANGE[ONE]][HUNDRED].map do |n|\n           ^",
     "output_type": "error",
     "traceback": [
      "\u001b[31mSyntaxError\u001b[0m: <main>:2: syntax error, unexpected ']', expecting end-of-input\nRANGE[ONE]][HUNDRED].map do |n|\n           ^",
      "\u001b[37m/Users/masa/.anyenv/envs/rbenv/versions/2.2.2/lib/ruby/gems/2.2.0/gems/iruby-0.2.7/lib/iruby/backend.rb:44:in `eval'\u001b[0m",
      "\u001b[37m/Users/masa/.anyenv/envs/rbenv/versions/2.2.2/lib/ruby/gems/2.2.0/gems/iruby-0.2.7/lib/iruby/backend.rb:44:in `eval'\u001b[0m",
      "\u001b[37m/Users/masa/.anyenv/envs/rbenv/versions/2.2.2/lib/ruby/gems/2.2.0/gems/iruby-0.2.7/lib/iruby/backend.rb:12:in `eval'\u001b[0m",
      "\u001b[37m/Users/masa/.anyenv/envs/rbenv/versions/2.2.2/lib/ruby/gems/2.2.0/gems/iruby-0.2.7/lib/iruby/kernel.rb:87:in `execute_request'\u001b[0m",
      "\u001b[37m/Users/masa/.anyenv/envs/rbenv/versions/2.2.2/lib/ruby/gems/2.2.0/gems/iruby-0.2.7/lib/iruby/kernel.rb:47:in `dispatch'\u001b[0m",
      "\u001b[37m/Users/masa/.anyenv/envs/rbenv/versions/2.2.2/lib/ruby/gems/2.2.0/gems/iruby-0.2.7/lib/iruby/kernel.rb:37:in `run'\u001b[0m",
      "\u001b[37m/Users/masa/.anyenv/envs/rbenv/versions/2.2.2/lib/ruby/gems/2.2.0/gems/iruby-0.2.7/lib/iruby/command.rb:70:in `run_kernel'\u001b[0m",
      "\u001b[37m/Users/masa/.anyenv/envs/rbenv/versions/2.2.2/lib/ruby/gems/2.2.0/gems/iruby-0.2.7/lib/iruby/command.rb:34:in `run'\u001b[0m",
      "\u001b[37m/Users/masa/.anyenv/envs/rbenv/versions/2.2.2/lib/ruby/gems/2.2.0/gems/iruby-0.2.7/bin/iruby:5:in `<top (required)>'\u001b[0m",
      "\u001b[37m/Users/masa/.anyenv/envs/rbenv/versions/2.2.2/bin/iruby:23:in `load'\u001b[0m",
      "\u001b[37m/Users/masa/.anyenv/envs/rbenv/versions/2.2.2/bin/iruby:23:in `<main>'\u001b[0m"
     ]
    }
   ],
   "source": [
    "# FizzBuzz\n",
    "# 数,bool値,述語,%,rangeをprocで\n",
    "RANGE[ONE]][HUNDRED].map do |n|\n",
    "  IF[IS_ZERO[ZMOD[n][FIFTEEN]]][\n",
    "    'FizzBuzz'\n",
    "  ][IF[IS_ZERO[ZMOD[n][THREE]]][\n",
    "    'Fizz'\n",
    "  ][IF[IS_ZERO[ZMOD[n][FIVE]][\n",
    "    'Buzz'\n",
    "  ][\n",
    "    n.to_s\n",
    "  ]]]\n",
    "end"
   ]
  },
  {
   "cell_type": "markdown",
   "metadata": {},
   "source": [
    "- mapもprocで定義しよう\n",
    "- helperとしてFOLDを用いる\n",
    "    - Haskellでいうfoldlっぽさ"
   ]
  },
  {
   "cell_type": "code",
   "execution_count": 58,
   "metadata": {
    "collapsed": false
   },
   "outputs": [
    {
     "data": {
      "text/plain": [
       "#<Proc:0x007fc79d16bba8@<main>:2 (lambda)>"
      ]
     },
     "execution_count": 58,
     "metadata": {},
     "output_type": "execute_result"
    }
   ],
   "source": [
    "# FOLD :: [a] -> b ->  (a->b->b) -> b\n",
    "FOLD =\n",
    "Z[-> f {\n",
    "  -> l { -> x { -> g {\n",
    "    IF[IS_EMPTY[l]][\n",
    "      x\n",
    "      ][\n",
    "        -> y { \n",
    "          g[f[REST[l]][x][g]][FIRST[l]][y]\n",
    "        }\n",
    "     ]\n",
    "    }}}\n",
    "  }]\n",
    "\n",
    "# f :: [a] -> b -> (a->b->b) -> b\n",
    "# g  :: x -> x -> x"
   ]
  },
  {
   "cell_type": "code",
   "execution_count": 59,
   "metadata": {
    "collapsed": false
   },
   "outputs": [
    {
     "name": "stdout",
     "output_type": "stream",
     "text": [
      "15\n",
      "120\n"
     ]
    }
   ],
   "source": [
    "puts to_integer(FOLD[RANGE[ONE][FIVE]][ZERO][ADD])\n",
    "puts to_integer(FOLD[RANGE[ONE][FIVE]][ONE][MULTIPLY])"
   ]
  },
  {
   "cell_type": "code",
   "execution_count": 60,
   "metadata": {
    "collapsed": false
   },
   "outputs": [
    {
     "data": {
      "text/plain": [
       "#<Proc:0x007fc79d916510@<main>:2 (lambda)>"
      ]
     },
     "execution_count": 60,
     "metadata": {},
     "output_type": "execute_result"
    }
   ],
   "source": [
    "# MAP :: [x] -> (x -> x) -> [x]\n",
    "MAP = \n",
    "-> k { -> f {\n",
    "  FOLD[k][EMPTY][\n",
    "   ->l { -> x {UNSHIFT[l][f[x]]}}  \n",
    "  ]\n",
    "}}"
   ]
  },
  {
   "cell_type": "code",
   "execution_count": 61,
   "metadata": {
    "collapsed": false
   },
   "outputs": [
    {
     "name": "stdout",
     "output_type": "stream",
     "text": [
      "[2, 3, 4, 5, 6]\n"
     ]
    }
   ],
   "source": [
    "my_list = MAP[RANGE[ONE][FIVE]][INCREMENT]\n",
    "puts to_array(my_list).map { |p| to_integer(p) }"
   ]
  },
  {
   "cell_type": "code",
   "execution_count": 62,
   "metadata": {
    "collapsed": false
   },
   "outputs": [
    {
     "data": {
      "text/plain": [
       "#<Proc:0x007fc79d055700@<main>:6 (lambda)>"
      ]
     },
     "execution_count": 62,
     "metadata": {},
     "output_type": "execute_result"
    }
   ],
   "source": [
    "# FizzBuzz\n",
    "# 数,bool値,述語,%,range,mapをprocで\n",
    "MAP[RANGE[ONE][HUNDRED]][ -> {\n",
    "  IF[IS_ZERO[ZMOD[n][FIFTEEN]]][\n",
    "    'FizzBuzz'\n",
    "  ][IF[IS_ZERO[ZMOD[n][THREE]]][\n",
    "    'Fizz'\n",
    "  ][IF[IS_ZERO[ZMOD[n][FIVE]]][\n",
    "    'Buzz'\n",
    "  ][\n",
    "    n.to_s\n",
    "  ]]]\n",
    "}]"
   ]
  },
  {
   "cell_type": "markdown",
   "metadata": {},
   "source": [
    "### 6.1.9 文字列\n",
    "- FizzBuzzで使う文字だけをencodeする形とする\n",
    "- 数字も文字列としてreturnする"
   ]
  },
  {
   "cell_type": "code",
   "execution_count": 63,
   "metadata": {
    "collapsed": false
   },
   "outputs": [
    {
     "data": {
      "text/plain": [
       "#<Proc:0x007fc79d0262e8@<main>:1 (lambda)>"
      ]
     },
     "execution_count": 63,
     "metadata": {},
     "output_type": "execute_result"
    }
   ],
   "source": [
    "TEN = MULTIPLY[TWO][FIVE]\n",
    "B = TEN\n",
    "F = INCREMENT[B]\n",
    "I = INCREMENT[F]\n",
    "U = INCREMENT[I]\n",
    "ZED = INCREMENT[U] \n",
    "\n",
    "FIZZ = UNSHIFT[UNSHIFT[UNSHIFT[UNSHIFT[EMPTY][ZED]][ZED]][I]][F]\n",
    "BUZZ = UNSHIFT[UNSHIFT[UNSHIFT[UNSHIFT[EMPTY][ZED]][ZED]][U]][B]\n",
    "FIZZBUZZ = UNSHIFT[UNSHIFT[UNSHIFT[UNSHIFT[BUZZ][ZED]][ZED]][I]][F]"
   ]
  },
  {
   "cell_type": "code",
   "execution_count": 64,
   "metadata": {
    "collapsed": false
   },
   "outputs": [
    {
     "data": {
      "text/plain": [
       ":to_string"
      ]
     },
     "execution_count": 64,
     "metadata": {},
     "output_type": "execute_result"
    }
   ],
   "source": [
    "def to_char(c)\n",
    "  '0123456789BFiuz'.slice(to_integer(c))\n",
    "end\n",
    "\n",
    "def to_string(s)\n",
    "  to_array(s).map { |c| to_char(c) }.join\n",
    "end\n"
   ]
  },
  {
   "cell_type": "code",
   "execution_count": 65,
   "metadata": {
    "collapsed": false
   },
   "outputs": [
    {
     "name": "stdout",
     "output_type": "stream",
     "text": [
      "z\n",
      "FizzBuzz\n"
     ]
    }
   ],
   "source": [
    "puts to_char(ZED)\n",
    "puts to_string(FIZZBUZZ)"
   ]
  },
  {
   "cell_type": "code",
   "execution_count": 66,
   "metadata": {
    "collapsed": false
   },
   "outputs": [
    {
     "data": {
      "text/plain": [
       "#<Proc:0x007fc79c8be3e8@<main>:6 (lambda)>"
      ]
     },
     "execution_count": 66,
     "metadata": {},
     "output_type": "execute_result"
    }
   ],
   "source": [
    "# FizzBuzz\n",
    "# 数,bool値,述語,%,range,map,文字列をprocで\n",
    "MAP[RANGE[ONE][HUNDRED]][ -> {\n",
    "  IF[IS_ZERO[ZMOD[n][FIFTEEN]]][\n",
    "    FIZZBUZZ\n",
    "  ][IF[IS_ZERO[ZMOD[n][THREE]]][\n",
    "    FIZZ\n",
    "  ][IF[IS_ZERO[ZMOD[n][FIVE]]][\n",
    "    BUZZ\n",
    "  ][\n",
    "    n.to_s\n",
    "  ]]]\n",
    "}]"
   ]
  },
  {
   "cell_type": "markdown",
   "metadata": {},
   "source": [
    "- 数値を文字列にする\n"
   ]
  },
  {
   "cell_type": "code",
   "execution_count": 67,
   "metadata": {
    "collapsed": false
   },
   "outputs": [
    {
     "data": {
      "text/plain": [
       ":to_digits"
      ]
     },
     "execution_count": 67,
     "metadata": {},
     "output_type": "execute_result"
    }
   ],
   "source": [
    "# ruby でかく\n",
    "def to_digits(n)\n",
    "  previous_digits =\n",
    "    if n < 10\n",
    "      []\n",
    "    else\n",
    "      to_digits(n / 10)\n",
    "    end\n",
    "  previous_digits.push(n % 10) \\\n",
    "end"
   ]
  },
  {
   "cell_type": "code",
   "execution_count": 68,
   "metadata": {
    "collapsed": false
   },
   "outputs": [
    {
     "name": "stdout",
     "output_type": "stream",
     "text": [
      "[1, 2, 3]\n"
     ]
    }
   ],
   "source": [
    "puts to_digits(123)"
   ]
  },
  {
   "cell_type": "markdown",
   "metadata": {},
   "source": [
    "- to_digits をproc化\n",
    "- < の代わりに<=\n",
    "- /とpushを実装する\n",
    "- DIVちょっとわかりづらいかも\n",
    "    - どんな形で展開されていくか？を意識できればok\n",
    "    - 要は再帰的に呼ばれるたびにINCREMENTでくるんでいる\n",
    "    - 最終形\n",
    "        - INCREMENT[INCREMENT[...INCREMENT[ZERO]..]]\n",
    "- PUSHは簡単\n",
    "    - [x]に対しFOLDでUNSHIFTしまくる"
   ]
  },
  {
   "cell_type": "code",
   "execution_count": 69,
   "metadata": {
    "collapsed": false
   },
   "outputs": [
    {
     "data": {
      "text/plain": [
       "#<Proc:0x007fc79c9326d0@<main>:22 (lambda)>"
      ]
     },
     "execution_count": 69,
     "metadata": {},
     "output_type": "execute_result"
    }
   ],
   "source": [
    "# DIV :: x -> x -> x\n",
    "DIV =\n",
    "Z[\n",
    "    -> f { -> m { -> n {\n",
    "      IF[IS_LESS_OR_EQUAL[n][m]][\n",
    "          ->x {\n",
    "            INCREMENT[f[SUBTRACT[m][n]][n]][x]}\n",
    "      ][\n",
    "          ZERO\n",
    "      ]\n",
    "   }}}  \n",
    "]\n",
    "\n",
    "# PUSH :: [x] -> x -> [x]\n",
    "PUSH = -> l {\n",
    "  -> x { \n",
    "    FOLD[l][UNSHIFT[EMPTY][x]][UNSHIFT]\n",
    "    }\n",
    "  }\n",
    "\n",
    "# TO_DIGITS :: x -> [x]\n",
    "TO_DIGITS = \n",
    "Z[ -> f {-> n { PUSH[\n",
    "  IF[IS_LESS_OR_EQUAL[n][DECREMENT[TEN]]][\n",
    "    EMPTY\n",
    "  ][\n",
    "    -> x {\n",
    "        f[DIV[n][TEN]][x]\n",
    "    }    \n",
    "  ]\n",
    "][ZMOD[n][TEN]]}}]"
   ]
  },
  {
   "cell_type": "code",
   "execution_count": 70,
   "metadata": {
    "collapsed": false
   },
   "outputs": [
    {
     "name": "stdout",
     "output_type": "stream",
     "text": [
      "[1, 5]\n"
     ]
    }
   ],
   "source": [
    "puts to_array(TO_DIGITS[FIFTEEN]).map { |p| to_integer(p) }"
   ]
  },
  {
   "cell_type": "code",
   "execution_count": 71,
   "metadata": {
    "collapsed": false
   },
   "outputs": [
    {
     "data": {
      "text/plain": [
       "#<Proc:0x007fc79d845690@<main>:6 (lambda)>"
      ]
     },
     "execution_count": 71,
     "metadata": {},
     "output_type": "execute_result"
    }
   ],
   "source": [
    "# FizzBuzz\n",
    "# 数,bool値,述語,%,range,map,文字列をprocで\n",
    "ANS = MAP[RANGE[ONE][HUNDRED]][ -> n {\n",
    "  IF[IS_ZERO[ZMOD[n][FIFTEEN]]][\n",
    "    FIZZBUZZ\n",
    "  ][IF[IS_ZERO[ZMOD[n][THREE]]][\n",
    "    FIZZ\n",
    "  ][IF[IS_ZERO[ZMOD[n][FIVE]]][\n",
    "    BUZZ\n",
    "  ][\n",
    "    TO_DIGITS[n]\n",
    "  ]]]\n",
    "}]"
   ]
  },
  {
   "cell_type": "code",
   "execution_count": 72,
   "metadata": {
    "collapsed": false
   },
   "outputs": [
    {
     "name": "stdout",
     "output_type": "stream",
     "text": [
      "1\n",
      "2\n",
      "Fizz\n",
      "4\n",
      "Buzz\n",
      "Fizz\n",
      "7\n",
      "8\n",
      "Fizz\n",
      "Buzz\n",
      "11\n",
      "Fizz\n",
      "13\n",
      "14\n",
      "FizzBuzz\n",
      "16\n",
      "17\n",
      "Fizz\n",
      "19\n",
      "Buzz\n",
      "Fizz\n",
      "22\n",
      "23\n",
      "Fizz\n",
      "Buzz\n",
      "26\n",
      "Fizz\n",
      "28\n",
      "29\n",
      "FizzBuzz\n",
      "31\n",
      "32\n",
      "Fizz\n",
      "34\n",
      "Buzz\n",
      "Fizz\n",
      "37\n",
      "38\n",
      "Fizz\n",
      "Buzz\n",
      "41\n",
      "Fizz\n",
      "43\n",
      "44\n",
      "FizzBuzz\n",
      "46\n",
      "47\n",
      "Fizz\n",
      "49\n",
      "Buzz\n",
      "Fizz\n",
      "52\n",
      "53\n",
      "Fizz\n",
      "Buzz\n",
      "56\n",
      "Fizz\n",
      "58\n",
      "59\n",
      "FizzBuzz\n",
      "61\n",
      "62\n",
      "Fizz\n",
      "64\n",
      "Buzz\n",
      "Fizz\n",
      "67\n",
      "68\n",
      "Fizz\n",
      "Buzz\n",
      "71\n",
      "Fizz\n",
      "73\n",
      "74\n",
      "FizzBuzz\n",
      "76\n",
      "77\n",
      "Fizz\n",
      "79\n",
      "Buzz\n",
      "Fizz\n",
      "82\n",
      "83\n",
      "Fizz\n",
      "Buzz\n",
      "86\n",
      "Fizz\n",
      "88\n",
      "89\n",
      "FizzBuzz\n",
      "91\n",
      "92\n",
      "Fizz\n",
      "94\n",
      "Buzz\n",
      "Fizz\n",
      "97\n",
      "98\n",
      "Fizz\n",
      "Buzz\n"
     ]
    }
   ],
   "source": [
    "to_array(ANS).each do |p|\n",
    "    puts to_string(p) \n",
    "end; nil\n"
   ]
  },
  {
   "cell_type": "markdown",
   "metadata": {},
   "source": [
    "꒰(๑´•.̫ • `๑)꒱< FIZZBUZZ できてる☆"
   ]
  },
  {
   "cell_type": "code",
   "execution_count": null,
   "metadata": {
    "collapsed": true
   },
   "outputs": [],
   "source": []
  }
 ],
 "metadata": {
  "kernelspec": {
   "display_name": "Ruby 2.2.2",
   "language": "ruby",
   "name": "ruby"
  },
  "language_info": {
   "file_extension": "rb",
   "mimetype": "application/x-ruby",
   "name": "ruby",
   "version": "2.2.2"
  }
 },
 "nbformat": 4,
 "nbformat_minor": 0
}
